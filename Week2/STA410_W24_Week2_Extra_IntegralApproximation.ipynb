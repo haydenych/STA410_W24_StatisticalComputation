{
 "cells": [
  {
   "cell_type": "markdown",
   "metadata": {
    "id": "CRoIadOPiG3h"
   },
   "source": [
    "<a name=\"cell-TOC\"></a>\n",
    "\n",
    "0. [Integral Estimation](#cell-INTest)\n",
    "1. [Integral Approximation](#cell-Approximation)\n",
    "    1. [Newton-Côtes Quadrature](#cell-NewtonCotes)\n",
    "    2. [Riemann Integrals](#cell-Riemann)\n",
    "    3. [Trapezoidal Quadrature](#cell-Trapezoidal)\n",
    "    4. [Simpson's Rule](#cell-Simpson)\n",
    "    5. [Romberg Acceleration](#cell-Romberg)\n",
    "    6. [Gaussian Quadrature](#cell-GaussianQuadrature)"
   ]
  },
  {
   "cell_type": "markdown",
   "metadata": {
    "id": "ahpkjHC3iFqy"
   },
   "source": [
    "<a name=\"cell-INTest\"></a>\n",
    "\n",
    "# 0. Integral Estimation ([Return to TOC](#cell-TOC))\n",
    "\n",
    "---\n",
    "\n",
    "If we can write\n",
    "\n",
    "$$ \\int f(x) dx \\; = \\int g(x)p(x) dx \\quad \\text{ then } \\quad \\int f(x) dx = E_{X\\sim p_X(x)}[g(x)]$$\n",
    "\n",
    "so  \n",
    "\n",
    "$$\\hat \\theta \\; \\text{ estimating }\\; E_X[g(x)] \\quad \\text{ also estimates } \\quad \\int f(x) dx$$\n",
    "\n",
    "If the ***central limit theorem*** for $\\hat \\theta$ estimating $E_X[g(x)]$ applies, then the ***standard error*** of the estimator defines how accurate the ***integral estimation*** is."
   ]
  },
  {
   "cell_type": "markdown",
   "metadata": {
    "id": "_JFhD-BMjvOI"
   },
   "source": [
    "<a name=\"cell-Approximation\"></a>\n",
    "\n",
    "# 1. Integral Approximation ([Return to TOC](#cell-TOC))\n",
    "\n",
    "---\n",
    "\n",
    "The alternative to estimating integrals (or analytically deriving their solution) is to replace the integrand $f(x)$ with an approximation $g(x) \\approx f(x)$. E.g., a sequence of piecewise function approximations $g_j(x)$, allows the integration to be approximated \n",
    "\n",
    "$$\\int_{x_0}^{x_n}  \\!\\!\\!\\!\\!\\! f(x) dx = \\sum_{j=0}^{n-1} \\int_{x_j}^{x_{j+1}} \\!\\!\\!\\!\\!\\!\\!\\!\\! f(x) dx \\approx \\sum_{j=0}^{n-1} \\int_{x_j}^{x_{j+1}} \\!\\!\\!\\!\\!\\!\\!\\!\\! g_j(x) dx$$\n",
    "\n",
    "with a ***discrete approximation*** using a series of simpler integration problems with known solutions. "
   ]
  },
  {
   "cell_type": "markdown",
   "metadata": {
    "id": "WDw0MlzjkXPw"
   },
   "source": [
    "<a name=\"cell-NewtonCotes\"></a>\n",
    "\n",
    "## 1.A Newton-Côtes Quadrature ([Return to TOC](#cell-TOC))\n",
    "\n",
    "---\n",
    "\n",
    "Replacing an integrand function with piecewise polynomial approximations within the intervals of an equally spaced ***discretization grid*** is known as ***Newton-Côtes quadrature***.\n",
    "- The degree of the polynomial approximation within each interval determines the type of ***quadrature*** being used.\n",
    "- The robustness of the approximation can be ascertained using ***adaptive quadrature*** which evaluates the sensitivity of the estimation to ***dicretization grid*** width and alignment configurations."
   ]
  },
  {
   "cell_type": "markdown",
   "metadata": {
    "id": "Pc-siqmbkXEd"
   },
   "source": [
    "<a name=\"cell-Riemann\"></a>\n",
    "\n",
    "## 1.B Riemann Integrals ([Return to TOC](#cell-TOC))\n",
    "\n",
    "---\n",
    "\n",
    "***Riemann Integrals*** (i.e., the limit of ***Riemann sums***) approximate the function with an order $0$ (flat line) polynomial within each interval, so\n",
    "\n",
    "$$ \\int_{x_0}^{x_n}  \\!\\!\\!\\!\\!\\! f(x) dx = \\sum_{j=0}^{n-1} \\int_{x_j}^{x_{j+1}} \\!\\!\\!\\!\\!\\!\\!\\!\\! f(x) dx \\approx w \\sum_{j=0}^{n-1}f(x_0 + jw) = \\widehat R(n)$$\n",
    "\n",
    "where $w=x_{j+1}-x_j$ and $$\\lim_{n \\rightarrow \\infty}  \\widehat R(n) = \\int_{x_0}^{x_n} \\!\\! f(x) dx$$\n",
    "\n",
    "and convergence (to the level of numerical precision availble) is monitored through a sequence of approximations where $n_{k+1} = 2n_k$ such that $w_{k+1} = w_k/2$ so half of the function evaluations at each step are already known from the previous step.  \n",
    "\n",
    "> The above specifiction uses the approximation from the figure on the right, but the approximation from the figure on the left also converges appropriately, and a ***midpoint rule*** based approximation could also be considered.\n",
    "\n",
    "|![](https://upload.wikimedia.org/wikipedia/commons/thumb/0/0a/Riemann_Integration_and_Darboux_Upper_Sums.gif/300px-Riemann_Integration_and_Darboux_Upper_Sums.gif)|![](https://upload.wikimedia.org/wikipedia/commons/thumb/e/e3/Riemann_Integration_and_Darboux_Lower_Sums.gif/300px-Riemann_Integration_and_Darboux_Lower_Sums.gif)|\n",
    "|-:|:-|\n",
    "|Both of the images above are taken directly form|https://en.wikipedia.org/wiki/Integral#Interpretations|"
   ]
  },
  {
   "cell_type": "markdown",
   "metadata": {
    "id": "LhrQhoewkXGz"
   },
   "source": [
    "<a name=\"cell-Trapezoidal\"></a>\n",
    "\n",
    "## 1.C Trapezoidal Quadrature ([Return to TOC](#cell-TOC))\n",
    "\n",
    "---\n",
    "\n",
    "***Trapezoidal Quadrature*** approximates the function with a first order (straight line) polynomial within each interval, connecting the endpoints $f(x_{j})$ and $f(x_{j+1}$) of each interval, so\n",
    "\n",
    "$$ \n",
    "\\begin{align*}\n",
    "\\int_{x_0}^{x_n}  \\!\\!\\!\\!\\!\\! f(x) dx = \\sum_{j=0}^{n-1} \\int_{x_j}^{x_{j+1}} \\!\\!\\!\\!\\!\\!\\!\\!\\! f(x) dx \\approx {} & \\sum_{j=0}^{n-1} \\overbrace{\\left(\\frac{x_{j+1}-x_j}{2}\\right)\\left( f(x_{j+1}) + f(x_j) \\right)}^{\\text{trapezoidal rule}} \\\\\n",
    " = {} & \\; \\frac{wf(x_0)}{2} + w\\sum_{j=1}^{n-1} f(x_0 + jw) + \\frac{wf(x_n)}{2} = \\widehat T(n)\n",
    "\\end{align*}$$\n",
    "\n",
    "where $w=x_{j+1}-x_j$, the $\\frac{1}{2}$ mostly goes away because all $f(x_j)$ except the endpoints are double counted, and\n",
    "\n",
    "$$\\lim_{n \\rightarrow \\infty}  \\widehat T(n) = \\int_{x_0}^{x_n} \\!\\! f(x) dx$$\n",
    "\n",
    "and convergence (to the level of numerical precision availble) is monitored through a sequence of approximations where $n_{k+1} = 2n_k$ such that $w_{k+1} = w_k/2$ so half of the function evaluations at each step are already known from the previous step.  \n",
    "\n",
    "|![](https://upload.wikimedia.org/wikipedia/commons/thumb/7/7e/Trapezium2.gif/440px-Trapezium2.gif)|\n",
    "|-|\n",
    "|The image above is taken from https://en.wikipedia.org/wiki/Trapezoidal_rule|"
   ]
  },
  {
   "cell_type": "markdown",
   "metadata": {
    "id": "v2J3jUYrk7id"
   },
   "source": [
    "<a name=\"cell-Simpson\"></a>\n",
    "\n",
    "## 1.D Simpson's Rule ([Return to TOC](#cell-TOC))\n",
    "\n",
    "---\n",
    "\n",
    "***Simpson's three-point $\\frac{1}{3}$rd rule*** approximates the function with a second order (quadratic) polynomial within each interval which (exactly) interpolates the endpoints and midpoint $f(x_{j}), f(x_{j+1})$ and $f\\left(\\frac{x_{j+1}+x_{j}}{2}\\right)$ of each interval, so (for even $n$)\n",
    "\n",
    "$$\\int_{x_0}^{x_n}  \\!\\!\\!\\!\\!\\! f(x) dx = \\sum_{j=0}^{n-1} \\int_{x_j}^{x_{j+1}} \\!\\!\\!\\!\\!\\!\\!\\!\\! f(x) dx \\approx \\frac{h}{3} \\sum_{i=1}^{n/2} \\big( f(x_{2j-2}) + 4f(x_{2j-1}) + f(x_{2j}) \\big) = \\widehat S\\left(\\frac{n}{2}\\right)$$\n",
    "\n",
    "where $h = \\frac{w}{2} = \\frac{x_{j+1}-x_j}{2}$ and the approximation [can be shown](https://en.wikipedia.org/wiki/Simpson%27s_rule#Derivations) by either integration by parts or as the $\\frac{2M+T}{3}$ weigted average of \n",
    "- the ***midpoint rule*** $\\int_a^bf(x)dx \\approx f(\\frac{a+b}{2})(b-a) = M$ (similar to ***Riemann sums***)\n",
    "- and the ***trapezoidal rule*** $\\int_a^bf(x)dx \\approx \\frac{f(a)+f(b)}{2}(b-a) = T$ (as in ***trapezoidal quadrature***)\n",
    "\n",
    "which analytically reduces approximation error.  However, whether or not a higher order polynomial approximation like ***Simpson's rule*** rather than a ***trapezoidal rule*** will improve the approximation for a given $n$ depends on the function being integrated itself and is by no means a certainty.\n",
    "\n",
    "> A ***four-point $\\frac{3}{8}$ths formula*** much like the ***three-point $\\frac{1}{3}$rd rule*** \n",
    "is available for interpolating four points with a cubic function.\n",
    "- Further higher order polynomial approximations are possible using the so-called ***method of undetermined coefficients***.\n",
    "\n",
    "|<img src=\"https://upload.wikimedia.org/wikipedia/commons/f/fc/Simpson%27s_One-Third_Rule.gif\"> | <img src='https://upload.wikimedia.org/wikipedia/commons/thumb/6/67/Simpsonsrule2.gif/440px-Simpsonsrule2.gif'>|\n",
    "|-:|:-|\n",
    "|Both of the images above are taken directly form|https://en.wikipedia.org/wiki/Simpson's_rule |\n",
    "\n",
    "\n",
    "\n"
   ]
  },
  {
   "cell_type": "markdown",
   "metadata": {
    "id": "3-KSrlaGk-fR"
   },
   "source": [
    "<a name=\"cell-Romberg\"></a>\n",
    "\n",
    "## 1.E Romberg Acceleration ([Return to TOC](#cell-TOC))\n",
    "\n",
    "---\n",
    "\n",
    "***Simpson's rule*** is derived by noticing that two approximations share a known analytical bias which can be cancelled through a weighted average of the two approximations, i.e., $\\frac{2M+T}{3}$ in the case of ***Simpson's rule***.\n",
    "In the context of integral approximation, a very clear factor which causes bias is the width of the ***discretization grid***.\n",
    "\n",
    "Using the [Euler-Maclaurin formula](https://en.wikipedia.org/wiki/Euler%E2%80%93Maclaurin_formula), it can be shown that for ***trapezpoidal quadrature*** \n",
    "> based on a ***discretization*** with $n$ ***grid points*** and corresponding ***grid width*** $w$\n",
    "\n",
    "there is a constant $c$ such that\n",
    "\n",
    "$$\\widehat T (n) = \\int_{x_0}^{x_n} \\!\\!\\!\\! f(x) dx + cw^2 + O(n^{-4}) \\quad \\text{ and } \\quad \\widehat T (2n) = \\int_{x_0}^{x_n} \\!\\!\\!\\! f(x) dx + \\frac{c}{4}w^2 + O(n^{-4})$$\n",
    "\n",
    "so ***Romberg acceleration*** removes the error associated with the grid width $w$ with\n",
    "\n",
    "$$\\frac{4\\widehat T (2n) - \\widehat T (n)}{3} = \\int_{x_0}^{x_n} \\!\\!\\!\\! f(x) dx + O(n^{-4})$$\n",
    "\n",
    "***Romberg acceleration*** has two connections with ***Simpson's rule***:\n",
    "1. It can be shown that this difference between \n",
    "\"doubled\" and \"original\" ***discretization*** for ***trapezpoidal quadrature*** is exactly equal to ***Simpson's rule*** applied to the \"doubled\" grid with interval widths $h=w/2$.\n",
    "2. More generally, though, the principle behind ***Romberg acceleration*** and ***Simpson's rule*** is the same, i.e., known analytical bias can be removed through weighted averaging.\n",
    "\n",
    "Interestingly, ***Romberg acceleration*** can be repeatedly recursively applied for even further accuracy improvement by\n",
    "\n",
    "0. letting $\\widehat T\\!\\!{}_{j,0} = \\widehat T (2^j)$ for $j=0,\\cdots, m$\n",
    "\n",
    "  > which for $n_{j} = 2^j$ such that $h_{j+1} = h_j/2$ with $h_0 = \\frac{a-b}{2}$ can be calculated from a natural recursion of ***trapezpoidal quadrature***  \n",
    "  > \n",
    "  > $$\\widehat T (2n) = \\frac{1}{2} \\widehat T (n) + h \\sum_{i=1}^{n/2} f\\left(x_0 + \\left(2i-1\\right)h \\right)$$\n",
    "  >\n",
    "  > after initialization with $\\widehat T_{0,0}(1) = h_0(f(a)+f(b))$\n",
    "\n",
    "\n",
    "1. the $k^{th}$ recursive application is $\\widehat T\\!\\!{}_{j,k} = \\frac{4^k \\widehat T\\!\\!{}_{j,k-1} - \\widehat T\\!\\!{}_{j-1,k-1} }{4^k - 1}$\n",
    ">    \n",
    ">    which allows for $k\\leq j$ repeated waves of refinements on sequential approximations, i.e.,\n",
    ">    - after initial calculation of the sequence $\\widehat T\\!\\!{}_{j,0}$\n",
    ">    - the $k^{th}$ refinement wave produces a sequence of length one less than the previous sequence\n",
    "> \n",
    "> $$\n",
    "\\begin{align*}\n",
    " \\widehat T\\!\\!{}_{0,0} \\;\\; \\widehat T\\!\\!{}_{1,0} \\;\\; \\widehat T\\!\\!{}_{2,0} \\;\\; \\widehat T\\!\\!{}_{3,0} \\;\\; \\widehat T\\!\\!{}_{4,0} \\;\\;  \\cdots \\\\\n",
    "\\overset{\\text{each sequential pair is refined}}{\\underbrace{\\quad\\quad\\quad\\,} \\!\\!\\!\\!\\!\\!\\!\\!\n",
    "\\underbrace{\\quad\\quad\\quad\\,} \\!\\!\\!\\!\\!\\!\\!\\!\n",
    "\\underbrace{\\quad\\quad\\quad\\,} \\!\\!\\!\\!\\!\\!\\!\\!\n",
    "\\underbrace{\\quad\\quad\\quad\\,}} \\quad\\;\\;\\;\n",
    " \\\\\n",
    " \\widehat T\\!\\!{}_{0,1} \\;\\; \\widehat T\\!\\!{}_{1,1} \\;\\; \\widehat T\\!\\!{}_{2,1} \\;\\; \\widehat T\\!\\!{}_{3,1}  \\;\\;  \\cdots \\;\\;\\;\\\\\n",
    " \\overset{\\text{sequential pairs again refined}}{\\underbrace{\\quad\\quad\\quad\\,} \\!\\!\\!\\!\\!\\!\\!\\!\n",
    "\\underbrace{\\quad\\quad\\quad\\,} \\!\\!\\!\\!\\!\\!\\!\\!\n",
    "\\underbrace{\\quad\\quad\\quad\\,}} \\quad\\quad\\;\\;\n",
    " \\\\\n",
    " \\widehat T\\!\\!{}_{0,2} \\;\\; \\widehat T\\!\\!{}_{1,2} \\;\\; \\widehat T\\!\\!{}_{2,2}  \\;\\;  \\cdots \\quad \\,\\;\\;\\\\\n",
    " \\overset{\\text{etc.}}{\\underbrace{\\quad\\quad\\quad\\,} \\!\\!\\!\\!\\!\\!\\!\\!\n",
    "\\underbrace{\\quad\\quad\\quad\\;}} \\quad\\quad\\quad\\;\n",
    " \\\\\n",
    " \\end{align*}$$\n",
    "\n",
    "which will become extremely accurate extremely quickly with\n",
    "\n",
    "\n",
    "$$\\widehat T\\!\\!{}_{m,m} = \\int_{x_0}^{x_n} \\!\\!\\!\\! f(x) dx + O(n^{-2m^2})$$\n",
    "\n",
    "for functions with $2m$ continuous derivatives and so long as the calculations do not deteriorate due to available numeric precision, the latter of which is not the case so long as \n",
    "\n",
    "$$ \\frac{T\\!\\!{}_{j,k} - T\\!\\!{}_{j-1,k}}{T\\!\\!{}_{j+1,k} - T\\!\\!{}_{j,k}} \\;\\text{ approaches }\\; 4^{k+1} \\;\\text{ as $j$ and $k$ increase.}$$\n",
    "\n",
    "> ***Romberg acceleration*** is a specific variant of ***Richardson extrapolation*** which is a general bias reduction strategy that can be applied to other forms of ***Newton-Côtes Quadrature***, e.g., to ***Simpson's rule***, where\n",
    ">\n",
    "> $$ \\frac{16 \\widehat{S}(2n) - \\widehat{S}(n)}{16} = \\int_{x_0}^{x_n} \\!\\!\\!\\! f(x) dx + O(n^{-6})$$"
   ]
  },
  {
   "cell_type": "markdown",
   "metadata": {
    "id": "V9uvgpz6k_Nt"
   },
   "source": [
    "<a name=\"cell-GaussianQuadrature\"></a>\n",
    "\n",
    "## 1.F Gaussian Quadrature ([Return to TOC](#cell-TOC))\n",
    "\n",
    "---\n",
    "\n",
    "Recalling that ***orthogonomial polynomials basis functions*** $q_k$ (with weight function $w$) in a ***Fourier coefficient*** $c_k=\\langle f,q_k \\rangle$ weighted sum will approximate the function $f$,\n",
    "\n",
    "$$\n",
    "\\begin{align*}\n",
    "\\int_a^b \\!\\!\\!\\! f(x)dx = \\int_a^b \\!\\!\\!\\! \\underbrace{g(x)w(x)}_{\\text{e.g., } g(x) = \\frac{f(x)}{w(x)}}dx \\approx {} &\\int_a^b \\left(\\sum_{k=0}^{2m-1} c_k q_k(x)\\right) w(x) dx \\\\\n",
    "= {} &  \\sum_{k=0}^{2m-1} \\underset{\\text{so just compute $c_k=\\langle q_k, g \\rangle$}}{c_k \\underbrace{\\int_a^b  q_k(x) w(x) dx}_{\\text{orthogonal poly. lookup}}} = \\sum_{j=0}^{m-1} g(x_j) \\tilde \\omega_j\n",
    "\\end{align*}$$\n",
    "\n",
    "where the truth of the final equality is the result known as ***Gaussian quadrature*** where\n",
    "\n",
    "1. $x_j$ for $j=0, \\cdots, m-1$ are the $m$ roots of $q_{m}(x)$\n",
    "2. $\\tilde \\omega_j = \\frac{l_{m+1}}{l_m} \\frac{1}{q_{m+1}(x_j)q'_m(x_j)}$ with $l_k$ the leading coefficient of $q_k(x)$\n",
    "  - but $l_k$ will depend on the integration limits $[a,b]$ because the standardized forms of the ***canonical orthogonal polynomials*** are given in terms of standardized limits, but the forms of standard polynomials change for different limits.\n",
    "\n",
    "- ***Gaussian Quadrature*** is the replacement of the integral with a ***discretized integral***, i.e., a weighted sum which closely approximates the original integral.  ***Gaussian Quadrature*** is effective because it prescribes exactly which points on the function should be evaluated, and how they should be weighted, to produce an optimal approximation.\n",
    "\n",
    "- Often very few points, e.g., $m=5$, are required to achieve a very good approximation with ***Gaussian quadrature***; however, to refine such an approximation, e.g., to $m=6$, will generally require completely new $x_i$ so no function evaluations can be reused the way they can, e.g., when doubling grid density in ***Newton-Côtes quadrature***.\n",
    "\n",
    "> E.g., recalling that the ***weight function*** for ***Legendre polynomials*** over $[-1,1]$ is $w(x)= 1$, using a ***Gauss-Legendre Quadrature*** approximation \n",
    "> \n",
    "> $$\\int_{-1}^{1} f(x) dx \\approx \\int_{-1}^1 \\sum_{k=0}^{2m-1}c_k q_k(x) dx = \\sum_{j=0}^{m-1} \\tilde \\omega_j f(x_j)$$ \n",
    ">\n",
    "> only requires \n",
    "> - $x_j$ for $j=0,\\cdots,m-1$ to be the $m$ roots of the ***Legendre polynomial*** $q_m(x)$ \n",
    "> - and (known) weights $\\tilde \\omega_j = \\frac{2}{\\left(1-x_{j}^{2}\\right)q'_m(x_j)^2}$\n",
    ">  \n",
    "> all of which can simply be read off a [table](https://en.wikipedia.org/wiki/Gaussian_quadrature#Gauss%E2%80%93Legendre_quadrature), and which can be extended to any general interval $[a,b]$ using a [change of variables](https://en.wikipedia.org/wiki/Gaussian_quadrature#Change_of_interval).\n",
    "\n",
    "> The exact derivation of the evaluation points $x_j$ and the ***discretized integral*** weights $\\tilde \\omega_j$ is based on solving the $2m$ system of equations produced by \n",
    "> \\begin{align*}\n",
    "\\textstyle \\int_a^b q_k(x) g(x) w(x) dx \\approx {} &\n",
    "\\underbrace{\\sum_{j=0}^{m-1} q_{k}(x) g(x_j) \\omega_j}_{\\text{$2m$ free $\\tilde \\omega_j$ and $x_j$}}\\\\\n",
    "\\approx \\int_a^b q_k(x) \\underbrace{\\left(\\sum_{k'=0}^{2m-1} c_k q_k(x)\\right)}_{\\text{$2m$ Fourier coefficients}} w(x) dx = {} & c_k \\langle q_k(x), q_k(x) \\rangle\n",
    "\\end{align*}"
   ]
  }
 ],
 "metadata": {
  "colab": {
   "provenance": []
  },
  "kernelspec": {
   "display_name": "Python 3 (ipykernel)",
   "language": "python",
   "name": "python3"
  },
  "language_info": {
   "codemirror_mode": {
    "name": "ipython",
    "version": 3
   },
   "file_extension": ".py",
   "mimetype": "text/x-python",
   "name": "python",
   "nbconvert_exporter": "python",
   "pygments_lexer": "ipython3",
   "version": "3.11.4"
  }
 },
 "nbformat": 4,
 "nbformat_minor": 1
}
