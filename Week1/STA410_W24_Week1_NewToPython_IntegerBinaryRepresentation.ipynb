{
 "cells": [
  {
   "cell_type": "markdown",
   "id": "27034598",
   "metadata": {},
   "source": [
    "# New to `python` or want a quick refresher?\n",
    "\n",
    "This material is intended is intended as an exercise to help anyone new to Python get started. Hence the copious comments. For those already familar with Python the comments may be reviewed only briefly and deleted if desired. \n",
    "\n",
    "- Complete the function `binary_string(intput_integer, storage_bits=16)` which (when possible) returns a binary string representation of the supplied integer where the leftmost bit is the $\\pm$ sign bit and the rightmost bit is $2^0$.  \n",
    "\n",
    "  > *This problem is inspired by Figure 2.1 of Chapter 2.1 **The Fixed-Point Number System** on page 86 of James E. Gentle's **Computational Statistics** textbook.*"
   ]
  },
  {
   "cell_type": "code",
   "execution_count": 1,
   "id": "aac48101",
   "metadata": {
    "deletable": false
   },
   "outputs": [],
   "source": [
    "# Unless otherwise instructed, you may use any functions available from the following library imports\n",
    "import numpy as np # give package a simpler standard alias\n",
    "import matplotlib.pyplot as plt # again loading with the standard shorthand name"
   ]
  },
  {
   "cell_type": "code",
   "execution_count": 270,
   "id": "ef49479d",
   "metadata": {
    "deletable": false
   },
   "outputs": [],
   "source": [
    "# Python code doesn't run if it's not consistently indented.\n",
    "\n",
    "# This syntax defines the function `binary_string` with a required and optional (default valued) input.\n",
    "# Input values (\"function arguments\") are accessed in the function as variables (\"function parameters\"),\n",
    "def binary_string(integer_input, storage_bits=16):\n",
    "    \n",
    "    \"\"\"    \n",
    "    integer_input     : (int) must be an integer which may be negative\n",
    "    storage_bits(=16) : (int) representational storage capacity in bits\n",
    "\n",
    "    returns (str) signed (`storage_bits`-)bit representation of `integer_input`\n",
    "    \"\"\"\n",
    "    # The docstrings above is a multiline string placed right after the `def` line\n",
    "    # Run `binary_string?` or `help(binary_string)` (without ticks) in a cell to see the docstring\n",
    "\n",
    "    # Python variables are dynamically (automatically) typed\n",
    "    #   e.g., the type of the variable `storage_bits=16` is `int` (but `16.` `16.0` are `float`s)\n",
    "    #   e.g., this returns `True` or `False` `bool` type values (and `type(integer_input)` is `int`)\n",
    "    if type(integer_input) != int:\n",
    "    # this is Python's `if` statement syntax, and notice again how the indenting is applied \n",
    "        return \"Error: this function takes integers only.\"\n",
    "        # Python functions return `None` by default (`type(None)` is `NoneType`); so, \n",
    "        # use the `return` keyword to specify that a function should end and return a value\n",
    "\n",
    "    # The functions `type` above and `abs` below are part of the Python stdlib (\"standard libary\")\n",
    "    # and are thus automatically available within any Python programming envirionment\n",
    "    # Similarly, the `import math` statement (in the \"import cell\" above) is a Python standard module\n",
    "    # and can be imported with \"base\" Python without any (`pip install <package>`) extra installation\n",
    "    # https://docs.python.org/3/library/ https://docs.python.org/3/py-modindex.html\n",
    "    \n",
    "    # Python uses `**` rather than `^` for exponetiation; so, e.g., `2**3` is `2*2*2`\n",
    "    maximum_representable_integer = 2**(storage_bits) # FIX THIS: it's not correct\n",
    "    # Here's another `if` statement usage example\n",
    "    if abs(integer_input) > maximum_representable_integer:\n",
    "        return \"Error: `integer_input` exceeds the representational capability of `storage_bits`.\"\n",
    "    # Interestingly, Python(3) itself does not impose integer representational limitations\n",
    "    # https://stackoverflow.com/questions/7604966/maximum-and-minimum-values-for-ints \n",
    "    # but your program here will have representational limits according to `storage_bits`\n",
    "    # While having integers of \"unlimited\" size seems great, it also means efficient \n",
    "    # binary operations expecting fixed-sized integer representations will no longer apply\n",
    "\n",
    "    # Python's `list` type will keep track of the bit representation of `integer_input`\n",
    "    bits = storage_bits*[0]\n",
    "    # Python overloads operators, e.g., `*`, in sensible ways for different data types\n",
    "    # E.g., `k*<a list>` replicates the list `k` times and makes a new list from that\n",
    "    \n",
    "    if integer_input < 0:\n",
    "        # set the sign bit\n",
    "        bits[0] = 1 # the \"zero bit\" is our sign bit: don't change this\n",
    "        integer_input = abs(integer_input)\n",
    "\n",
    "    # Below is Python's for loop syntax which for default `storage_bits=16` iterates integer variable `i` \n",
    "    # from 1 to 15 (and not 16) because Python is 0-indexed so `range(16)` starts from 0 and goes to 15 \n",
    "    # (iterating 16 times) while `range(1, storage_bits)` starts at 1 and goes to 15.\n",
    "    # Any `iterable` may be \"iterated\" through `i` in Python, e.g.,\n",
    "    # - the built-in (i.e., part of stdlib) function `range` is the `generator` form of an `iterator` \n",
    "    # -`for b_i in storage_bits:` would \"iterate\" `b_i` over the elements of the `storage_bits` `list`\n",
    "    # Notably, `generator`s do not store their elements in memory, but create their elements on the fly\n",
    "    # functionally; whereas, `storage_bits` actually exists in memory and can be \"traversed\" in memory\n",
    "    # https://stackoverflow.com/questions/2776829/difference-between-pythons-generators-and-iterators\n",
    "    for i in range(1, storage_bits):\n",
    "        \n",
    "        # TODO: \n",
    "        # Check if each power of two is present in the bit representation of `integer_input`\n",
    "        # and turn on that bit in the representation `bits` if so; but, remember\n",
    "        # - the \"leftmost bit\" `bits[0]` is the \"sign bit\",  \n",
    "        # - the \"rightmost bit\" `bits[-1]` corresponds to `2**0`,\n",
    "        # - and in general `bits[-j]` corresponds to `2**(j-1)` (except for `bits[0]`)\n",
    "        # where for an indexable object such as a `list` (and, interestingly, a `str` type)\n",
    "        # `bits[-1]` corresponds to the last element in the the object\n",
    "        # `bits[-2]` corresponds to the second to the last element in the object, etc.\n",
    "        \n",
    "        # This correspondance between `bits[-j]` and `2**(j-1)` is the way encoding is always\n",
    "        # done at the byte(=8bit) level; however, by continuing this representation across bytes(=8bits)\n",
    "        # the \"endianness\" of the encoding is \"big-endian\" as opposed to \"little-endian\" because\n",
    "        # - the most significant bits (highest powers of 2) are at the beginning of the array while\n",
    "        # - the least significant bits (lowest powers of 2) are at the end of the array; although,\n",
    "        # when the computer stores our \"bytes\" it might actually rearrange them into \"little-endian\".\n",
    "        # https://en.wikipedia.org/wiki/Endianness#Etymology\n",
    "        # https://www.section.io/engineering-education/what-is-little-endian-and-big-endian/\n",
    "        \n",
    "        pass # fill in your \"bit encode an integer\" algorithm then remove this \"pass\" placeholder\n",
    "\n",
    "    # The `[str(i) for bit in bits]` construction below is the idiomatically \"pythonic\" \"list comprehension\"\n",
    "    # The list comprehension here iterates over the elements of list `bits`,\n",
    "    #     assigning each in turn to `bit`, converting `bit` into the `str` type\n",
    "    #     and then returning the transformed versions `bit` as a new list \n",
    "    #     in the same order as the original `bits` list.\n",
    "    return \"\".join([str(bit) for bit in bits]) # Remember: an `str` is an \"iterable\" a `list`\n",
    "    # The Python object `\"\"` (i.e., an empty string) is a `str` type object.\n",
    "    # Objects in python have their own functions (called methods):\n",
    "    #   the `join` function of the `\"\"` object is called from the `\"\"` object \n",
    "    #   by accessing it with the `.` operator and it accepts a list of strings\n",
    "    #   the elements of which it then concatenates together using itself (`\"\"`).\n",
    "     \n",
    "    # Python objects which may be assigned variable names by which they are referenced; and, \n",
    "    # interestingly, a Python function is itself an object, e.g., `binary_string(<int>)` is \n",
    "    # shorthand for `binary_string.__call__(<int>)`.  To see the methods of objects, try, e.g.,\n",
    "    # `dir(binary_string)`, `dir(\"string\")`, `dir(16)`, or `storage_bits=16; dir(storage_bits)`\n",
    "    \n",
    "    # Since Python functions are (first-class) objects just like everything else, they can be\n",
    "    # passed as arguments into or returned as outputs from functions (as in the next problem)."
   ]
  },
  {
   "cell_type": "markdown",
   "id": "c31d58e8",
   "metadata": {},
   "source": [
    "## Hints\n",
    "\n",
    "The `binary_string` function above has the following problems:\n",
    "  - This code is wrong and needs to be fixed: `maximum_representable_integer = 2**(storage_bits)`\n",
    "  - You must add the code into the currently empty `for i in range(1, storage_bits):` loop in order to encode an an integer as a sequence of bits by \"turning on\" the appropriate bits in the bit representation of the integer.\n",
    "\n",
    "The code below has some things to try if you need to figure out what the code is doing. Trying things out to figure out what they do is of course exactly how gets more comfortable with coding."
   ]
  },
  {
   "cell_type": "code",
   "execution_count": null,
   "id": "7e713a30",
   "metadata": {},
   "outputs": [],
   "source": [
    "binary_string?"
   ]
  },
  {
   "cell_type": "code",
   "execution_count": null,
   "id": "9d45a9b2",
   "metadata": {},
   "outputs": [],
   "source": [
    "help(binary_string)"
   ]
  },
  {
   "cell_type": "code",
   "execution_count": null,
   "id": "60341c7f",
   "metadata": {},
   "outputs": [],
   "source": [
    "binary_string(.1)"
   ]
  },
  {
   "cell_type": "code",
   "execution_count": null,
   "id": "2616cc73",
   "metadata": {},
   "outputs": [],
   "source": [
    "binary_string(2**20)"
   ]
  },
  {
   "cell_type": "code",
   "execution_count": null,
   "id": "7df57c58",
   "metadata": {},
   "outputs": [],
   "source": [
    "[0,0]"
   ]
  },
  {
   "cell_type": "code",
   "execution_count": null,
   "id": "27e65f32",
   "metadata": {},
   "outputs": [],
   "source": [
    "16*[0]"
   ]
  },
  {
   "cell_type": "code",
   "execution_count": null,
   "id": "a239748e",
   "metadata": {},
   "outputs": [],
   "source": [
    "a_list = ['a','b','c']\n",
    "a_list"
   ]
  },
  {
   "cell_type": "code",
   "execution_count": null,
   "id": "787aaa8d",
   "metadata": {},
   "outputs": [],
   "source": [
    "a_list[0] = 'A'\n",
    "a_list"
   ]
  },
  {
   "cell_type": "code",
   "execution_count": null,
   "id": "5190847a",
   "metadata": {},
   "outputs": [],
   "source": [
    "a_list[1]"
   ]
  },
  {
   "cell_type": "code",
   "execution_count": null,
   "id": "152ab4ad",
   "metadata": {},
   "outputs": [],
   "source": [
    "a_list[2]"
   ]
  },
  {
   "cell_type": "code",
   "execution_count": null,
   "id": "362c8d98",
   "metadata": {},
   "outputs": [],
   "source": [
    "# negative indexes, e.g., `-1` in Python index \"backwards\"\n",
    "# starting from the end of the list and working towards the front\n",
    "a_list[-1]"
   ]
  },
  {
   "cell_type": "code",
   "execution_count": null,
   "id": "d913ad30",
   "metadata": {},
   "outputs": [],
   "source": [
    "a_list[-2]"
   ]
  },
  {
   "cell_type": "code",
   "execution_count": null,
   "id": "7f89e4d4",
   "metadata": {},
   "outputs": [],
   "source": [
    "\"a string is an indexable object in python\"[10]"
   ]
  },
  {
   "cell_type": "code",
   "execution_count": null,
   "id": "854486ab",
   "metadata": {},
   "outputs": [],
   "source": [
    "try:\n",
    "    a_list[3]\n",
    "except IndexError:\n",
    "    print(\"IndexError: list index out of range\")"
   ]
  },
  {
   "cell_type": "code",
   "execution_count": null,
   "id": "057491b9",
   "metadata": {},
   "outputs": [],
   "source": [
    "a_string = \"|\".join(['a','b','c'])\n",
    "a_string"
   ]
  },
  {
   "cell_type": "code",
   "execution_count": 7,
   "id": "b00a0a02",
   "metadata": {},
   "outputs": [],
   "source": [
    "# Cell for scratch work\n",
    "\n",
    "# You are welcome to add as many new cells into this notebook as you would like.\n",
    "# Just don't have scratch work cells with runtime errors because \n",
    "# notebook cells are run sequentially for automated code testing.\n",
    "\n",
    "# Any cells included for scratch work that are no longer needed may be deleted so long as \n",
    "# - all the required functions are still defined and available when called\n",
    "# - no cells requiring variable assignments are deleted \n",
    "#    - as this causes their `cell ids` to be lost, but these `cell-ids` are required for automated code testing."
   ]
  },
  {
   "cell_type": "code",
   "execution_count": null,
   "id": "0088ebf7",
   "metadata": {},
   "outputs": [],
   "source": [
    "# Cell for scratch work\n"
   ]
  },
  {
   "cell_type": "markdown",
   "id": "10a91f64",
   "metadata": {},
   "source": [
    "### Problem 1 Question 0 (0.5 points)\n",
    "\n",
    "What are the ordered concatenated values of the sign bit (the \"first\" bit \"on the left\") of the 16-bit integer representation of the numbers \n",
    "\n",
    "- `-7`, `7`, `-2**12`, and `-2**11`\n",
    "\n",
    "created by the `binary_string` function?"
   ]
  },
  {
   "cell_type": "code",
   "execution_count": null,
   "id": "6b4dccb4",
   "metadata": {
    "deletable": false
   },
   "outputs": [],
   "source": [
    "# 1 point [format: `str` type with `len(p1q0)` equal to 4]\n",
    "p1q0 = # binary_string(-7, 16)[0]+binary_string(7, 16)[0]+binary_string(-2**12, 16)[0]+binary_string(-2**11, 16)[0]\n",
    "# Uncommenting the code above will concatenate the single character `str` values with the overloaded operator '+' \n",
    "# which will return the correct answer with just the starter code alone\n",
    "\n",
    "# This cell will produce a runtime error until you assign a value to this variable"
   ]
  },
  {
   "cell_type": "markdown",
   "id": "2b123c4e",
   "metadata": {},
   "source": [
    "### Problem 1 Question 1 (0.5 points)\n",
    "\n",
    "What is the bitstring corresponding to `2**5` through `2**2` of a 16-bit integer representation of the number `21845` created by the `binary_string` function?"
   ]
  },
  {
   "cell_type": "code",
   "execution_count": null,
   "id": "7e601a30",
   "metadata": {
    "deletable": false
   },
   "outputs": [],
   "source": [
    "# 1 point [format: `str` type with `len(p1q0)` equal to 4]\n",
    "p1q1 = #binary_string(21845, 16)[10:14] # strings can be indexed and like `for` loops the upper bound is excluded \n",
    "# Uncommenting this function call with the correct \"bit encode an integer\" algorithm will return the correct answer\n",
    "\n",
    "# NOTE: remember that Python is 0-indexed, so `[10:14]` actually starts from the 11th position in the string; and,\n",
    "# perhaps unexpectly, the last index (`14` here is NOT included in the extracted subset); so,\n",
    "# (0-indexed) elements 10, 11, 12, and 13 are included, but element 14 is NOT!\n",
    "# So in Python `[10:14]` is like the open set `[10,14)` as well as being 0-indexed.\n",
    "\n",
    "# This cell will produce a runtime error until you assign a value to this variable"
   ]
  },
  {
   "cell_type": "markdown",
   "id": "c367985e",
   "metadata": {},
   "source": [
    "### Problem 1 Question 2 (2 points)\n",
    "\n",
    "What is the bitstring corresponding to `2**12` through `2**7` of a 16-bit integer representation of the number `-10922` created by the `binary_string` function?\n",
    "\n",
    "- Remember: Python is 0-indexed and does not include the final index when using `:` indexing; so, `'012345'[0:3]` is the substring `'012'`. "
   ]
  },
  {
   "cell_type": "code",
   "execution_count": null,
   "id": "084524a9",
   "metadata": {
    "deletable": false
   },
   "outputs": [],
   "source": [
    "# 2 points [format: `str` type with `len(p1q0)` equal to 6]\n",
    "p1q2 = #binary_string(-10922, 16)[<?>] # the indexing is currently unspecified and must be correctly specified\n",
    "# Uncommenting the call with the correct indexing and \"bit encode an integer\" algorithm will provide the correct answer\n",
    "\n",
    "# This cell will produce a runtime error until you assign a value to this variable\n",
    "# This cell will produce a runtime error if `[<?>]` is left as is"
   ]
  },
  {
   "cell_type": "markdown",
   "id": "a1273b83",
   "metadata": {},
   "source": [
    "### Problem 1 Question 3 (1 points)\n",
    "\n",
    "What is the value of the bit corresponding to `2**8` of a 16-bit integer representation of the number `32768` created by the `binary_string` function?"
   ]
  },
  {
   "cell_type": "code",
   "execution_count": null,
   "id": "3c814f5b",
   "metadata": {
    "deletable": false
   },
   "outputs": [],
   "source": [
    "# 2 points [format: `str` type]\n",
    "p1q3 = #binary_string(32768, 16)[<?>]\n",
    "# Uncommenting the call with the correct index and \"bit encode an integer\" algorithm will assign the correct answer\n",
    "\n",
    "# This cell will produce a runtime error until you assign a value to this variable\n",
    "# This cell will produce a runtime error if `[<?>]` is left as is"
   ]
  }
 ],
 "metadata": {
  "celltoolbar": "Edit Metadata",
  "kernelspec": {
   "display_name": "Python 3 (ipykernel)",
   "language": "python",
   "name": "python3"
  },
  "language_info": {
   "codemirror_mode": {
    "name": "ipython",
    "version": 3
   },
   "file_extension": ".py",
   "mimetype": "text/x-python",
   "name": "python",
   "nbconvert_exporter": "python",
   "pygments_lexer": "ipython3",
   "version": "3.11.4"
  }
 },
 "nbformat": 4,
 "nbformat_minor": 5
}
