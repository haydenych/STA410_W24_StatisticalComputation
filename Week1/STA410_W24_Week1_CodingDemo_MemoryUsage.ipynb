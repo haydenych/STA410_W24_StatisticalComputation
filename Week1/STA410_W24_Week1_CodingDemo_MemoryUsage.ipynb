{
 "cells": [
  {
   "cell_type": "code",
   "execution_count": 125,
   "id": "06b0272a",
   "metadata": {},
   "outputs": [],
   "source": [
    "def append_to_a_long_list_n_times_v1(a_long_list, n_times):\n",
    "    \n",
    "    for i in range(n_times):\n",
    "        a_long_list_copy = a_long_list.copy()\n",
    "        a_long_list_copy += [0]"
   ]
  },
  {
   "cell_type": "code",
   "execution_count": 126,
   "id": "4a746cdc",
   "metadata": {},
   "outputs": [
    {
     "name": "stdout",
     "output_type": "stream",
     "text": [
      "CPU times: user 500 ms, sys: 4.33 ms, total: 505 ms\n",
      "Wall time: 503 ms\n"
     ]
    }
   ],
   "source": [
    "%%time \n",
    "append_to_a_long_list_n_times_v1([0]*10000, 10000)"
   ]
  },
  {
   "cell_type": "code",
   "execution_count": 127,
   "id": "3e90cda9",
   "metadata": {},
   "outputs": [],
   "source": [
    "def append_to_a_long_list_n_times_v2(a_long_list, n_times):\n",
    "    \n",
    "    for i in range(n_times):\n",
    "        a_long_list_copy = a_long_list.copy()\n",
    "        a_long_list_copy = a_long_list_copy+[0]"
   ]
  },
  {
   "cell_type": "code",
   "execution_count": 128,
   "id": "3a7b9e48",
   "metadata": {},
   "outputs": [
    {
     "name": "stdout",
     "output_type": "stream",
     "text": [
      "CPU times: user 994 ms, sys: 9.73 ms, total: 1 s\n",
      "Wall time: 1 s\n"
     ]
    }
   ],
   "source": [
    "%%time \n",
    "append_to_a_long_list_n_times_v2([0]*10000, 10000)"
   ]
  },
  {
   "cell_type": "markdown",
   "id": "483522fd",
   "metadata": {},
   "source": [
    "# Why is this different?\n",
    "- Hint: the second version is about twice as long..."
   ]
  },
  {
   "cell_type": "code",
   "execution_count": 144,
   "id": "14341083",
   "metadata": {},
   "outputs": [],
   "source": [
    "def place_at_end_a_long_list_n_times(a_long_list, n_times):\n",
    "    \n",
    "    for i in range(n_times):\n",
    "        a_long_list_copy = a_long_list.copy()\n",
    "        a_long_list_copy[1] = 0"
   ]
  },
  {
   "cell_type": "code",
   "execution_count": 145,
   "id": "ab66e68f",
   "metadata": {},
   "outputs": [
    {
     "name": "stdout",
     "output_type": "stream",
     "text": [
      "CPU times: user 501 ms, sys: 8.26 ms, total: 510 ms\n",
      "Wall time: 507 ms\n"
     ]
    }
   ],
   "source": [
    "%%time \n",
    "place_at_end_a_long_list_n_times([0]*10000, 10000)"
   ]
  },
  {
   "cell_type": "markdown",
   "id": "87ceba28",
   "metadata": {},
   "source": [
    "Why is this about the same as the first one?\n",
    "- Hint: the first one appends an element to the end of a `list`, while this one replaces the last value in a `list`"
   ]
  },
  {
   "cell_type": "code",
   "execution_count": 146,
   "id": "ee65109a",
   "metadata": {},
   "outputs": [],
   "source": [
    "def place_at_end_a_long_np_array_n_times(a_long_np_array, n_times):\n",
    "    \n",
    "    for i in range(n_times):\n",
    "        a_long_np_array_copy = a_long_np_array.copy()\n",
    "        a_long_np_array_copy[1] = 0"
   ]
  },
  {
   "cell_type": "code",
   "execution_count": 147,
   "id": "d9c7205d",
   "metadata": {},
   "outputs": [],
   "source": [
    "import numpy as np"
   ]
  },
  {
   "cell_type": "code",
   "execution_count": 148,
   "id": "8b9e9959",
   "metadata": {},
   "outputs": [
    {
     "name": "stdout",
     "output_type": "stream",
     "text": [
      "CPU times: user 30.9 ms, sys: 2.84 ms, total: 33.7 ms\n",
      "Wall time: 35.2 ms\n"
     ]
    }
   ],
   "source": [
    "%%time \n",
    "place_at_end_a_long_list_n_times(np.array([0]*10000), 10000)"
   ]
  },
  {
   "cell_type": "markdown",
   "id": "81e76704",
   "metadata": {},
   "source": [
    "# Why is this so fast?\n",
    "- Hint: Why is `numpy` different than a `list`?"
   ]
  },
  {
   "cell_type": "code",
   "execution_count": 158,
   "id": "148d1b06",
   "metadata": {},
   "outputs": [],
   "source": [
    "def recurrsive_append_to_a_long_list_n_times_v1(a_long_list, n_times):\n",
    "    \n",
    "    if n_times==0:\n",
    "        return\n",
    "    \n",
    "    a_long_list_copy = a_long_list.copy()\n",
    "    a_long_list_copy += [0]\n",
    "    return recurrsive_append_to_a_long_list_n_times(a_long_list, n_times-1)"
   ]
  },
  {
   "cell_type": "code",
   "execution_count": 138,
   "id": "90499919",
   "metadata": {},
   "outputs": [
    {
     "ename": "RecursionError",
     "evalue": "maximum recursion depth exceeded while calling a Python object",
     "output_type": "error",
     "traceback": [
      "\u001b[0;31m---------------------------------------------------------------------------\u001b[0m",
      "\u001b[0;31mRecursionError\u001b[0m                            Traceback (most recent call last)",
      "Cell \u001b[0;32mIn[138], line 1\u001b[0m\n\u001b[0;32m----> 1\u001b[0m \u001b[43mrecurrsive_append_to_a_long_list_n_times_v1\u001b[49m\u001b[43m(\u001b[49m\u001b[43m[\u001b[49m\u001b[38;5;241;43m0\u001b[39;49m\u001b[43m]\u001b[49m\u001b[38;5;241;43m*\u001b[39;49m\u001b[38;5;241;43m10000\u001b[39;49m\u001b[43m,\u001b[49m\u001b[43m \u001b[49m\u001b[38;5;241;43m10000\u001b[39;49m\u001b[43m)\u001b[49m\n",
      "Cell \u001b[0;32mIn[137], line 8\u001b[0m, in \u001b[0;36mrecurrsive_append_to_a_long_list_n_times_v1\u001b[0;34m(a_long_list, n_times)\u001b[0m\n\u001b[1;32m      6\u001b[0m a_long_list_copy \u001b[38;5;241m=\u001b[39m a_long_list\u001b[38;5;241m.\u001b[39mcopy()\n\u001b[1;32m      7\u001b[0m a_long_list_copy \u001b[38;5;241m+\u001b[39m\u001b[38;5;241m=\u001b[39m [\u001b[38;5;241m0\u001b[39m]\n\u001b[0;32m----> 8\u001b[0m \u001b[38;5;28;01mreturn\u001b[39;00m \u001b[43mrecurrsive_append_to_a_long_list_n_times\u001b[49m\u001b[43m(\u001b[49m\u001b[43ma_long_list\u001b[49m\u001b[43m,\u001b[49m\u001b[43m \u001b[49m\u001b[43mn_times\u001b[49m\u001b[38;5;241;43m-\u001b[39;49m\u001b[38;5;241;43m1\u001b[39;49m\u001b[43m)\u001b[49m\n",
      "Cell \u001b[0;32mIn[93], line 8\u001b[0m, in \u001b[0;36mrecurrsive_append_to_a_long_list_n_times\u001b[0;34m(a_long_list, n_times)\u001b[0m\n\u001b[1;32m      6\u001b[0m a_long_list_copy \u001b[38;5;241m=\u001b[39m a_long_list\u001b[38;5;241m.\u001b[39mcopy()\n\u001b[1;32m      7\u001b[0m a_long_list_copy \u001b[38;5;241m+\u001b[39m\u001b[38;5;241m=\u001b[39m [\u001b[38;5;241m0\u001b[39m]\n\u001b[0;32m----> 8\u001b[0m \u001b[38;5;28;01mreturn\u001b[39;00m \u001b[43mrecurrsive_append_to_a_long_list_n_times\u001b[49m\u001b[43m(\u001b[49m\u001b[43ma_long_list\u001b[49m\u001b[43m,\u001b[49m\u001b[43m \u001b[49m\u001b[43mn_times\u001b[49m\u001b[38;5;241;43m-\u001b[39;49m\u001b[38;5;241;43m1\u001b[39;49m\u001b[43m)\u001b[49m\n",
      "Cell \u001b[0;32mIn[93], line 8\u001b[0m, in \u001b[0;36mrecurrsive_append_to_a_long_list_n_times\u001b[0;34m(a_long_list, n_times)\u001b[0m\n\u001b[1;32m      6\u001b[0m a_long_list_copy \u001b[38;5;241m=\u001b[39m a_long_list\u001b[38;5;241m.\u001b[39mcopy()\n\u001b[1;32m      7\u001b[0m a_long_list_copy \u001b[38;5;241m+\u001b[39m\u001b[38;5;241m=\u001b[39m [\u001b[38;5;241m0\u001b[39m]\n\u001b[0;32m----> 8\u001b[0m \u001b[38;5;28;01mreturn\u001b[39;00m \u001b[43mrecurrsive_append_to_a_long_list_n_times\u001b[49m\u001b[43m(\u001b[49m\u001b[43ma_long_list\u001b[49m\u001b[43m,\u001b[49m\u001b[43m \u001b[49m\u001b[43mn_times\u001b[49m\u001b[38;5;241;43m-\u001b[39;49m\u001b[38;5;241;43m1\u001b[39;49m\u001b[43m)\u001b[49m\n",
      "    \u001b[0;31m[... skipping similar frames: recurrsive_append_to_a_long_list_n_times at line 8 (2969 times)]\u001b[0m\n",
      "Cell \u001b[0;32mIn[93], line 8\u001b[0m, in \u001b[0;36mrecurrsive_append_to_a_long_list_n_times\u001b[0;34m(a_long_list, n_times)\u001b[0m\n\u001b[1;32m      6\u001b[0m a_long_list_copy \u001b[38;5;241m=\u001b[39m a_long_list\u001b[38;5;241m.\u001b[39mcopy()\n\u001b[1;32m      7\u001b[0m a_long_list_copy \u001b[38;5;241m+\u001b[39m\u001b[38;5;241m=\u001b[39m [\u001b[38;5;241m0\u001b[39m]\n\u001b[0;32m----> 8\u001b[0m \u001b[38;5;28;01mreturn\u001b[39;00m \u001b[43mrecurrsive_append_to_a_long_list_n_times\u001b[49m\u001b[43m(\u001b[49m\u001b[43ma_long_list\u001b[49m\u001b[43m,\u001b[49m\u001b[43m \u001b[49m\u001b[43mn_times\u001b[49m\u001b[38;5;241;43m-\u001b[39;49m\u001b[38;5;241;43m1\u001b[39;49m\u001b[43m)\u001b[49m\n",
      "Cell \u001b[0;32mIn[93], line 6\u001b[0m, in \u001b[0;36mrecurrsive_append_to_a_long_list_n_times\u001b[0;34m(a_long_list, n_times)\u001b[0m\n\u001b[1;32m      3\u001b[0m \u001b[38;5;28;01mif\u001b[39;00m n_times\u001b[38;5;241m==\u001b[39m\u001b[38;5;241m0\u001b[39m:\n\u001b[1;32m      4\u001b[0m     \u001b[38;5;28;01mreturn\u001b[39;00m\n\u001b[0;32m----> 6\u001b[0m a_long_list_copy \u001b[38;5;241m=\u001b[39m a_long_list\u001b[38;5;241m.\u001b[39mcopy()\n\u001b[1;32m      7\u001b[0m a_long_list_copy \u001b[38;5;241m+\u001b[39m\u001b[38;5;241m=\u001b[39m [\u001b[38;5;241m0\u001b[39m]\n\u001b[1;32m      8\u001b[0m \u001b[38;5;28;01mreturn\u001b[39;00m recurrsive_append_to_a_long_list_n_times(a_long_list, n_times\u001b[38;5;241m-\u001b[39m\u001b[38;5;241m1\u001b[39m)\n",
      "\u001b[0;31mRecursionError\u001b[0m: maximum recursion depth exceeded while calling a Python object"
     ]
    }
   ],
   "source": [
    "recurrsive_append_to_a_long_list_n_times_v1([0]*10000, 10000)"
   ]
  },
  {
   "cell_type": "markdown",
   "id": "6931193b",
   "metadata": {},
   "source": [
    "# Why did this break?\n",
    "- Hint: What's the error say?"
   ]
  },
  {
   "cell_type": "code",
   "execution_count": 151,
   "id": "4a717103",
   "metadata": {},
   "outputs": [],
   "source": [
    "import sys\n",
    "#sys.getrecursionlimit()#3000\n",
    "sys.setrecursionlimit(10030)#sys.setrecursionlimit(3000)"
   ]
  },
  {
   "cell_type": "code",
   "execution_count": 152,
   "id": "772d3218",
   "metadata": {},
   "outputs": [
    {
     "data": {
      "text/plain": [
       "10030"
      ]
     },
     "execution_count": 152,
     "metadata": {},
     "output_type": "execute_result"
    }
   ],
   "source": [
    "sys.getrecursionlimit()"
   ]
  },
  {
   "cell_type": "code",
   "execution_count": 163,
   "id": "bc9c5a24",
   "metadata": {},
   "outputs": [
    {
     "name": "stdout",
     "output_type": "stream",
     "text": [
      "CPU times: user 893 ms, sys: 106 ms, total: 999 ms\n",
      "Wall time: 998 ms\n"
     ]
    }
   ],
   "source": [
    "%%time \n",
    "recurrsive_append_to_a_long_list_n_times_v1([0]*10000, 10000)"
   ]
  },
  {
   "cell_type": "markdown",
   "id": "f1a9f9e8",
   "metadata": {},
   "source": [
    "# Did this fix the problem?\n",
    "- Hint: It runs now, but is that good? "
   ]
  },
  {
   "cell_type": "code",
   "execution_count": 170,
   "id": "69f97c6d",
   "metadata": {},
   "outputs": [],
   "source": [
    "def recurrsive_append_to_a_long_list_n_times_v2(a_long_list, n_times):\n",
    "    \n",
    "    if n_times==0:\n",
    "        return\n",
    "    \n",
    "    a_long_list_copy = a_long_list.copy()\n",
    "    a_long_list_copy = a_long_list_copy+[0]\n",
    "    return recurrsive_append_to_a_long_list_n_times(a_long_list, n_times-1)"
   ]
  },
  {
   "cell_type": "code",
   "execution_count": 171,
   "id": "69e53600",
   "metadata": {},
   "outputs": [
    {
     "name": "stdout",
     "output_type": "stream",
     "text": [
      "CPU times: user 946 ms, sys: 125 ms, total: 1.07 s\n",
      "Wall time: 1.07 s\n"
     ]
    }
   ],
   "source": [
    "%%time \n",
    "recurrsive_append_to_a_long_list_n_times_v2([0]*10000, 10000)"
   ]
  },
  {
   "cell_type": "markdown",
   "id": "7086ef12",
   "metadata": {},
   "source": [
    "# It's weird this is now the same, sometimes faster... anyone know why?\n",
    "- Hint: I don't..."
   ]
  },
  {
   "cell_type": "markdown",
   "id": "fa1d3b05",
   "metadata": {},
   "source": [
    "# So is recurrsion about the same as a `for` loop? \n",
    "- Hint: No... consider the following..."
   ]
  },
  {
   "cell_type": "code",
   "execution_count": 172,
   "id": "664cb92c",
   "metadata": {},
   "outputs": [
    {
     "name": "stdout",
     "output_type": "stream",
     "text": [
      "(8131, 901432037) (Current Usage, Peak Usage)\n"
     ]
    }
   ],
   "source": [
    "import tracemalloc\n",
    "tracemalloc.start()\n",
    "recurrsive_append_to_a_long_list_n_times_v1([0]*10000, 10000)\n",
    "print(tracemalloc.get_traced_memory(), '(Current Usage, Peak Usage)')\n",
    "tracemalloc.stop()"
   ]
  },
  {
   "cell_type": "code",
   "execution_count": 173,
   "id": "7733c375",
   "metadata": {},
   "outputs": [
    {
     "name": "stdout",
     "output_type": "stream",
     "text": [
      "(9291, 901423155) (Current Usage, Peak Usage)\n"
     ]
    }
   ],
   "source": [
    "tracemalloc.start()\n",
    "recurrsive_append_to_a_long_list_n_times_v2([0]*10000, 10000)\n",
    "print(tracemalloc.get_traced_memory(), '(Current Usage, Peak Usage)')\n",
    "tracemalloc.stop()"
   ]
  },
  {
   "cell_type": "code",
   "execution_count": 174,
   "id": "d8e1f082",
   "metadata": {},
   "outputs": [
    {
     "name": "stdout",
     "output_type": "stream",
     "text": [
      "(3305, 256803) (Current Usage, Peak Usage)\n"
     ]
    }
   ],
   "source": [
    "tracemalloc.start()\n",
    "append_to_a_long_list_n_times_v1([0]*10000, 10000)\n",
    "print(tracemalloc.get_traced_memory(), '(Current Usage, Peak Usage)')\n",
    "tracemalloc.stop()"
   ]
  },
  {
   "cell_type": "code",
   "execution_count": 175,
   "id": "db5907fe",
   "metadata": {},
   "outputs": [
    {
     "name": "stdout",
     "output_type": "stream",
     "text": [
      "(3277, 243589) (Current Usage, Peak Usage)\n"
     ]
    }
   ],
   "source": [
    "tracemalloc.start()\n",
    "append_to_a_long_list_n_times_v2([0]*10000, 10000)\n",
    "print(tracemalloc.get_traced_memory(), '(Current Usage, Peak Usage)')\n",
    "tracemalloc.stop()"
   ]
  },
  {
   "cell_type": "code",
   "execution_count": 176,
   "id": "b6bbf802",
   "metadata": {},
   "outputs": [
    {
     "name": "stdout",
     "output_type": "stream",
     "text": [
      "(2803, 247455) (Current Usage, Peak Usage)\n"
     ]
    }
   ],
   "source": [
    "tracemalloc.start()\n",
    "place_at_end_a_long_list_n_times(np.array([0]*10000), 10000)\n",
    "print(tracemalloc.get_traced_memory(), '(Current Usage, Peak Usage)')\n",
    "tracemalloc.stop()"
   ]
  },
  {
   "cell_type": "markdown",
   "id": "7b0f3a38",
   "metadata": {},
   "source": [
    "# What does the above show?\n",
    "- Hint: Why recurrsion is not \"about the same as a `for` loop\""
   ]
  },
  {
   "cell_type": "code",
   "execution_count": null,
   "id": "54e6b90a",
   "metadata": {},
   "outputs": [],
   "source": []
  }
 ],
 "metadata": {
  "kernelspec": {
   "display_name": "Python 3 (ipykernel)",
   "language": "python",
   "name": "python3"
  },
  "language_info": {
   "codemirror_mode": {
    "name": "ipython",
    "version": 3
   },
   "file_extension": ".py",
   "mimetype": "text/x-python",
   "name": "python",
   "nbconvert_exporter": "python",
   "pygments_lexer": "ipython3",
   "version": "3.11.4"
  }
 },
 "nbformat": 4,
 "nbformat_minor": 5
}
