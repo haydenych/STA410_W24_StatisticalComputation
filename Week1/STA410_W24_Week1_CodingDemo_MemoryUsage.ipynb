{
 "cells": [
  {
   "cell_type": "markdown",
   "id": "551dc1f2",
   "metadata": {},
   "source": [
    "# Python Syntax\n",
    "Functions, variables, `list`, `for` loop syntax, operator overloading (`list_a + list_b`), `np.arrays`/vectors, memory usage, recursion\n",
    "- Let's walk through the following code... what's happening here? And maybe we'll highlight and annotate some key concepts with some comments..."
   ]
  },
  {
   "cell_type": "code",
   "execution_count": null,
   "id": "06b0272a",
   "metadata": {},
   "outputs": [],
   "source": [
    "def append_to_a_long_list_n_times_v1(a_long_list, n_times):\n",
    "    \n",
    "    for i in range(n_times):\n",
    "        a_long_list_copy = a_long_list.copy()\n",
    "        a_long_list_copy += [0]"
   ]
  },
  {
   "cell_type": "code",
   "execution_count": null,
   "id": "4a746cdc",
   "metadata": {},
   "outputs": [],
   "source": [
    "%%time \n",
    "append_to_a_long_list_n_times_v1([0]*10000, 10000)"
   ]
  },
  {
   "cell_type": "code",
   "execution_count": null,
   "id": "3e90cda9",
   "metadata": {},
   "outputs": [],
   "source": [
    "def append_to_a_long_list_n_times_v2(a_long_list, n_times):\n",
    "    \n",
    "    for i in range(n_times):\n",
    "        a_long_list_copy = a_long_list.copy()\n",
    "        a_long_list_copy = a_long_list_copy+[0]"
   ]
  },
  {
   "cell_type": "code",
   "execution_count": null,
   "id": "3a7b9e48",
   "metadata": {},
   "outputs": [],
   "source": [
    "%%time \n",
    "append_to_a_long_list_n_times_v2([0]*10000, 10000)"
   ]
  },
  {
   "cell_type": "markdown",
   "id": "483522fd",
   "metadata": {},
   "source": [
    "# Why are the above two different?\n",
    "- Hint: the second version takes about twice as long to run... [double click for answer]\n",
    "\n",
    "<!-- First does something like grows existing array in memory by extending/appending element to the end of the existing array... -->\n",
    "\n",
    "<!-- Second recreates the entire array in memory each time(!), \n",
    "which is like doing `a_long_list_copy = a_long_list.copy()` twice, \n",
    "which of course takes about twice as long -->\n",
    "\n",
    "<!-- ... so it seems then like it doesn't take long to add a single extra appended element to the end of the array -->"
   ]
  },
  {
   "cell_type": "code",
   "execution_count": null,
   "id": "14341083",
   "metadata": {},
   "outputs": [],
   "source": [
    "def edit_end_a_long_list_n_times(a_long_list, n_times):\n",
    "    \n",
    "    for i in range(n_times):\n",
    "        a_long_list_copy = a_long_list.copy()\n",
    "        a_long_list_copy[-1] = 0"
   ]
  },
  {
   "cell_type": "code",
   "execution_count": null,
   "id": "ab66e68f",
   "metadata": {},
   "outputs": [],
   "source": [
    "%%time \n",
    "edit_end_a_long_list_n_times([0]*10000, 10000)"
   ]
  },
  {
   "cell_type": "markdown",
   "id": "87ceba28",
   "metadata": {},
   "source": [
    "# Is there a speed difference between extending or editing a list?\n",
    "- Hint: what's the difference between this code at the previous code? [double click for answer]\n",
    "\n",
    "<!-- Appending an item or editing at item at the end of the list seem to take about the same amount of time -->"
   ]
  },
  {
   "cell_type": "markdown",
   "id": "bc64fcf6",
   "metadata": {},
   "source": [
    "# Is there a speed difference between accessing the first or last element of a python list?\n",
    "- Hint: what's the difference between `a_long_list_copy[0]` or last `a_long_list_copy[-1]`? [double click for answer]\n",
    "\n",
    "<!-- There is not much of a speed difference between `a_long_list_copy[-1]` or last `a_long_list_copy[-1]` -->\n",
    "<!-- so Python `list` objects aren't iterated through, which would cause different index access speeds -->\n"
   ]
  },
  {
   "cell_type": "code",
   "execution_count": null,
   "id": "ee65109a",
   "metadata": {},
   "outputs": [],
   "source": [
    "def edit_end_a_long_np_array_n_times(a_long_np_array, n_times):\n",
    "    \n",
    "    for i in range(n_times):\n",
    "        a_long_np_array_copy = a_long_np_array.copy()\n",
    "        a_long_np_array_copy[-1] = 0"
   ]
  },
  {
   "cell_type": "code",
   "execution_count": null,
   "id": "d9c7205d",
   "metadata": {},
   "outputs": [],
   "source": [
    "import numpy as np"
   ]
  },
  {
   "cell_type": "code",
   "execution_count": null,
   "id": "8b9e9959",
   "metadata": {},
   "outputs": [],
   "source": [
    "%%time \n",
    "edit_end_a_long_np_array_n_times(np.array([0]*10000), 10000)"
   ]
  },
  {
   "cell_type": "markdown",
   "id": "81e76704",
   "metadata": {},
   "source": [
    "# About how much faster is accessing a `np.array` element versus a `list` element?\n",
    "- Hint: Python `list` is \"random access\" while `np.array` access based on \"direct array coordinates indexing\""
   ]
  },
  {
   "cell_type": "markdown",
   "id": "2498236d",
   "metadata": {},
   "source": [
    "# Why don't we have an \"append/extend\" example for the `np.array`?\n",
    "Hint: would `a_long_np_array_copy += 1` \"append/extend\" to a `np.array`? [Double click for answer]\n",
    "\n",
    "<!-- no -- it would just add 1 to each element of the `np.array` -->"
   ]
  },
  {
   "cell_type": "markdown",
   "id": "b9064e4c",
   "metadata": {},
   "source": [
    "# Google \"recursion\"\n",
    "- Hint: you're not spelling it wrong, are you?"
   ]
  },
  {
   "cell_type": "code",
   "execution_count": null,
   "id": "148d1b06",
   "metadata": {},
   "outputs": [],
   "source": [
    "def recurrsive_append_to_a_long_list_n_times_v1(a_long_list, n_times):\n",
    "    \n",
    "    if n_times==0:\n",
    "        return\n",
    "    \n",
    "    a_long_list_copy = a_long_list.copy()\n",
    "    a_long_list_copy += [0]\n",
    "    return recurrsive_append_to_a_long_list_n_times_v1(a_long_list, n_times-1)"
   ]
  },
  {
   "cell_type": "code",
   "execution_count": null,
   "id": "90499919",
   "metadata": {},
   "outputs": [],
   "source": [
    "recurrsive_append_to_a_long_list_n_times_v1([0]*10000, 10000)"
   ]
  },
  {
   "cell_type": "markdown",
   "id": "6931193b",
   "metadata": {},
   "source": [
    "# Why did this break?\n",
    "- Hint: What's the error say?"
   ]
  },
  {
   "cell_type": "code",
   "execution_count": null,
   "id": "21fd8d0c",
   "metadata": {},
   "outputs": [],
   "source": [
    "import sys\n",
    "sys.getrecursionlimit()#3000"
   ]
  },
  {
   "cell_type": "code",
   "execution_count": null,
   "id": "4a717103",
   "metadata": {},
   "outputs": [],
   "source": [
    "sys.setrecursionlimit(10040)#sys.setrecursionlimit(3000)\n",
    "sys.getrecursionlimit()"
   ]
  },
  {
   "cell_type": "code",
   "execution_count": null,
   "id": "bc9c5a24",
   "metadata": {},
   "outputs": [],
   "source": [
    "%%time \n",
    "recurrsive_append_to_a_long_list_n_times_v1([0]*10000, 10000) # I'm not 100% why sys.setrecursionlimit(10030) fails"
   ]
  },
  {
   "cell_type": "markdown",
   "id": "f1a9f9e8",
   "metadata": {},
   "source": [
    "# Did `sys.setrecursionlimit(10040)` fix the problem?\n",
    "- Hint: It runs now... but why might we want to avoid using such a large `recursionlimit`? [Double click for answer]\n",
    "\n",
    "<!-- Each state space of each function call needs to be stored in some way until the functions it calls \"finish\" -->\n"
   ]
  },
  {
   "cell_type": "code",
   "execution_count": null,
   "id": "69f97c6d",
   "metadata": {},
   "outputs": [],
   "source": [
    "def recurrsive_append_to_a_long_list_n_times_v2(a_long_list, n_times):\n",
    "    \n",
    "    if n_times==0:\n",
    "        return\n",
    "    \n",
    "    a_long_list_copy = a_long_list.copy()\n",
    "    a_long_list_copy = a_long_list_copy+[0]\n",
    "    return recurrsive_append_to_a_long_list_n_times_v2(a_long_list, n_times-1)"
   ]
  },
  {
   "cell_type": "code",
   "execution_count": null,
   "id": "69e53600",
   "metadata": {},
   "outputs": [],
   "source": [
    "%%time \n",
    "recurrsive_append_to_a_long_list_n_times_v2([0]*10000, 10000)"
   ]
  },
  {
   "cell_type": "markdown",
   "id": "fa1d3b05",
   "metadata": {},
   "source": [
    "# So is recurrsion similar to using a `for` loop? \n",
    "- Hint: No... consider the following..."
   ]
  },
  {
   "cell_type": "code",
   "execution_count": null,
   "id": "664cb92c",
   "metadata": {},
   "outputs": [],
   "source": [
    "import tracemalloc\n",
    "tracemalloc.start()\n",
    "recurrsive_append_to_a_long_list_n_times_v1([0]*10000, 10000)\n",
    "print(tracemalloc.get_traced_memory(), '(Current Usage, Peak Usage)')\n",
    "tracemalloc.stop()"
   ]
  },
  {
   "cell_type": "code",
   "execution_count": null,
   "id": "7733c375",
   "metadata": {},
   "outputs": [],
   "source": [
    "tracemalloc.start()\n",
    "recurrsive_append_to_a_long_list_n_times_v2([0]*10000, 10000)\n",
    "print(tracemalloc.get_traced_memory(), '(Current Usage, Peak Usage)')\n",
    "tracemalloc.stop()"
   ]
  },
  {
   "cell_type": "code",
   "execution_count": null,
   "id": "d8e1f082",
   "metadata": {},
   "outputs": [],
   "source": [
    "tracemalloc.start()\n",
    "append_to_a_long_list_n_times_v1([0]*10000, 10000)\n",
    "print(tracemalloc.get_traced_memory(), '(Current Usage, Peak Usage)')\n",
    "tracemalloc.stop()"
   ]
  },
  {
   "cell_type": "code",
   "execution_count": null,
   "id": "db5907fe",
   "metadata": {},
   "outputs": [],
   "source": [
    "tracemalloc.start()\n",
    "append_to_a_long_list_n_times_v2([0]*10000, 10000)\n",
    "print(tracemalloc.get_traced_memory(), '(Current Usage, Peak Usage)')\n",
    "tracemalloc.stop()"
   ]
  },
  {
   "cell_type": "code",
   "execution_count": null,
   "id": "b6bbf802",
   "metadata": {},
   "outputs": [],
   "source": [
    "tracemalloc.start()\n",
    "edit_end_a_long_list_n_times(np.array([0]*10000), 10000)\n",
    "print(tracemalloc.get_traced_memory(), '(Current Usage, Peak Usage)')\n",
    "tracemalloc.stop()"
   ]
  },
  {
   "cell_type": "markdown",
   "id": "7b0f3a38",
   "metadata": {},
   "source": [
    "# What does the above show?\n",
    "- Hint: Why recurrsion is not \"about the same as a `for` loop\"? [Double click for answer]\n",
    "\n",
    "<!-- Recursion requires a lot more memory because the state space of each function call needs to be stored in some way until the functions it calls \"finish\" -->\n"
   ]
  },
  {
   "cell_type": "code",
   "execution_count": null,
   "id": "54e6b90a",
   "metadata": {},
   "outputs": [],
   "source": []
  }
 ],
 "metadata": {
  "kernelspec": {
   "display_name": "Python 3 (ipykernel)",
   "language": "python",
   "name": "python3"
  },
  "language_info": {
   "codemirror_mode": {
    "name": "ipython",
    "version": 3
   },
   "file_extension": ".py",
   "mimetype": "text/x-python",
   "name": "python",
   "nbconvert_exporter": "python",
   "pygments_lexer": "ipython3",
   "version": "3.11.4"
  }
 },
 "nbformat": 4,
 "nbformat_minor": 5
}
