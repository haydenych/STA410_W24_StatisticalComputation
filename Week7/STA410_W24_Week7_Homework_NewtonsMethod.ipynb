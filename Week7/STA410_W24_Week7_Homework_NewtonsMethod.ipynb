{
 "cells": [
  {
   "cell_type": "markdown",
   "id": "a0e24d64",
   "metadata": {},
   "source": [
    "# STA410 Week 6 Programming Assignment (5 points)\n",
    "\n",
    "0. **Paired or individual assignment.** Create code solutions for these assignments either individually or in the context of a paired effort. \n",
    "\n",
    "   >  Seek homework partners in class, in course discussion board on piazza, etc.   \n",
    " \n",
    "    \n",
    "1. **Paired students each separately submit their (common) work, including (agreeing) contribution of work statements for each problem.**  \n",
    "  \n",
    "   > Students must work in accordance with the [University of Toronto’s Code of Behaviour on Academic Matters](https://governingcouncil.utoronto.ca/secretariat/policies/code-behaviour-academic-matters-july-1-2019) (and see also http://academicintegrity.utoronto.ca.); however, students working in pairs may share work without restriction within their pair. Getting and sharing \"hints\" from other classmates is encouraged; but, the eventual code creation work and submission must be your own individual or paired creation.\n",
    "      \n",
    "2. **Do not delete, replace, or rearranged cells** as this erases `cell ids` upon which automated code tests are based.\n",
    "\n",
    "   > The \"Edit > Undo Delete Cells\" option in the notebook editor might be helpful; otherwise, redownload the notebook (so it has the correct required `cells ids`) and repopulate it with your answers (assuming you don't overwrite them when you redownload the notebook).\n",
    "  >> ***If you are working in any environment other than*** [UofT JupyterHub](https://jupyter.utoronto.ca/hub/user-redirect/git-pull?repo=https://github.com/pointOfive/sta410hw0&branch=master), [Google Colab](https://colab.research.google.com/github/pointOfive/sta410hw0/blob/master/sta410hw0.ipynb), or [UofT JupyterLab](https://jupyter.utoronto.ca/hub/user-redirect/git-pull?repo=https://github.com/pointOfive/sta410hw0&branch=master&urlpath=/lab/tree/sta410hw0), your system must meet the following versioning requirements \n",
    "   >>\n",
    "   >>   - [notebook format >=4.5](https://github.com/jupyterlab/jupyterlab/issues/9729) \n",
    "   >>   - jupyter [notebook](https://jupyter.org/install#jupyter-notebook) version [>=6.2](https://jupyter-notebook.readthedocs.io/en/stable/) for \"classic\" notebooks served by [jupyterhub](https://jupyterhub.readthedocs.io/en/stable/quickstart.html)\n",
    "   >>   - [jupyterlab](https://jupyter.org/install) version [>=3.0.13](https://github.com/jupyterlab/jupyterlab/releases/tag/v3.0.13) for \"jupyterlab\" notebooks  \n",
    "   >>    \n",
    "   >> otherwise `cell ids` mat not be supported and you will not get any credit for your submitted homework.\n",
    "   >>\n",
    "   >> You may check if `cell ids` are present and working by running the following command in a cell \n",
    "   >>\n",
    "   >> `! grep '\"id\":' <path/to/notebook>.ipynb`\n",
    "   >>\n",
    "   >> and making sure the `cell ids` **do not change** when you save your notebook.\n",
    "   \n",
    "3. ***You may add cells for scratch work*** but if required answers are not submitted through the provided cells where the answers are requested your answers may not be marked.\n",
    "\n",
    " \n",
    "4. **No cells may have any runtime errors** because this causes subsequent automated code tests to fail and you will not get marks for tests which fail because of previous runtime errors. \n",
    "\n",
    "  > Run time errors include, e.g., unassigned variables, mismatched parentheses, and any code which does not work when the notebook cells are sequentially run, even if it was provided for you as part of the starter code. ***It is best to restart and re-run the cells in your notebook to ensure there are no runtime errors before submitting your work.***\n",
    "  >\n",
    "  > - The `try`-`except` block syntax catches runtime errors and transforms them into `exceptions` which will not cause subsequent automated code tests to fail.  \n",
    "\n",
    "\n",
    "5. **No jupyter shortcut commands** such as `! python script.py 10` or `%%timeit` may be included in the final submission as they will cause subsequent automated code tests to fail.\n",
    "\n",
    "   > ***Comment out ALL jupyter shortcut commands***, e.g., `# ! python script.py 10` or `# %%timeit` in submitted notebooks.\n",
    "\n",
    "\n",
    "6. **Python library imports are limited** to only libraries imported in the starter code and the [standard python modules](https://docs.python.org/3/py-modindex.html). Importing additional libraries will cause subsequent automated code tests to fail.\n",
    "\n",
    "  > Unless a problem instructs differently, you may use any functions available from the libraries imported in the starter code; otherwise, you are expected to create your own Python functionality based on the Python stdlib (standard libary, i.e., base Python and standard Python modules).\n",
    "\n",
    "\n",
    "7. You are encouraged to adapt code you find available online into your notebook; however, if you do so please provide a link to the utilized resource. ***If failure to cite such references is identified and confirmed, your mark will be immediately reduced to 0.***  "
   ]
  },
  {
   "cell_type": "code",
   "execution_count": null,
   "id": "06837861",
   "metadata": {
    "deletable": false,
    "editable": false
   },
   "outputs": [],
   "source": [
    "# Unless a problem instructs differently, you may use any functions available from the following library imports\n",
    "import numpy as np\n",
    "import tensorflow as tf\n",
    "import logging, os\n",
    "import matplotlib.pyplot as plt"
   ]
  },
  {
   "cell_type": "markdown",
   "id": "a72c4f22",
   "metadata": {},
   "source": [
    "# Problem 0 (required)\n",
    "\n",
    "Are you working with a partner to complete this assignment?  \n",
    "- If not, assign  the value of `None` into the variable `Partner`.\n",
    "- If so, assign the name of the person you worked with into the variable `Partner`.\n",
    "    - Format the name as `\"<First Name> <Last Name>\"` as a `str` type, e.g., \"Scott Schwartz\"."
   ]
  },
  {
   "cell_type": "code",
   "execution_count": null,
   "id": "1e608b77",
   "metadata": {
    "deletable": false
   },
   "outputs": [],
   "source": [
    "# Required: only worth points when not completed, in which case, you'll lose points\n",
    "Partner = #None\n",
    "# This cell will produce a runtime error until you assign a value to this variable"
   ]
  },
  {
   "cell_type": "markdown",
   "id": "dcb02ffe",
   "metadata": {},
   "source": [
    "What was your contribution in completing the code for this assignments problems? Assign one of the following into each of the `Problem_X` variables below.\n",
    "\n",
    "- `\"I worked alone\"`\n",
    "- `\"I contributed more than my partner\"`\n",
    "- `\"My partner and I contributed equally\"`\n",
    "- `\"I contributed less than my partner\"`\n",
    "- `\"I did not contribute\"`"
   ]
  },
  {
   "cell_type": "code",
   "execution_count": null,
   "id": "5beae8e9",
   "metadata": {
    "deletable": false
   },
   "outputs": [],
   "source": [
    "# Required: only worth points when not completed, in which case, you'll lose points\n",
    "Problem_1 = #\"I worked alone\"\n",
    "Problem_2 = #\"I worked alone\"\n",
    "# This cell will produce a runtime error until you assign a value to this variable"
   ]
  },
  {
   "cell_type": "markdown",
   "id": "e19ba05a",
   "metadata": {},
   "source": [
    "# Problem 1 (5 points)\n",
    "\n",
    "Complete the function `newtons_method(f, x0, K=10, eps=1e-7)` for use with the $d$-variate [Schwefel function](https://www.sfu.ca/~ssurjano/schwef.html)\n",
    "\n",
    "$$418.9829d - \\sum_{i=1}^d x_i\\sin\\left(\\sqrt{|x_i|}\\right)$$\n",
    "\n",
    "\n",
    "  *This problem draws upon the outstanding materials created by [Sonja Surjanovic and Derek Bingham](https://www.sfu.ca/~ssurjano/index.html) of the [Department of Statistics and Actuarial Science at Simon Fraser University](https://www.sfu.ca/stat-actsci.html); specifically, their [optimization resources](https://www.sfu.ca/~ssurjano/optimization.html) which includes an extensive collection of multimodal functions.*  "
   ]
  },
  {
   "cell_type": "code",
   "execution_count": null,
   "id": "b1abffb5",
   "metadata": {
    "deletable": false
   },
   "outputs": [],
   "source": [
    "import logging, os\n",
    "logging.disable(logging.WARNING)\n",
    "os.environ[\"TF_CPP_MIN_LOG_LEVEL\"] = \"3\"\n",
    "\n",
    "d = 3\n",
    "@tf.function(input_signature=(tf.TensorSpec(shape=[d], dtype=tf.float32), ))\n",
    "def schwefel(x):\n",
    "    y = tf.math.reduce_sum(x*tf.math.sin(tf.math.sqrt(tf.math.abs(x))))\n",
    "    return 418.9829*x.shape[0] - y\n",
    "\n",
    "def newtons_method(f, x0, K=10, eps=1e-7):\n",
    "    \n",
    "    '''\n",
    "    Newton's Method with TensorFlow\n",
    "    \n",
    "    f   : @tf.function(input_signature=(tf.TensorSpec(shape=[d], dtype=tf.float32), ))\n",
    "    x0  : [x0_0, x0_1, ..., x0_(d-1)] list initialization \n",
    "    K   : (default 10) number of Newton Method steps\n",
    "    eps : (default 1e-7) stopping criterion `||x_k - x_(k-1)||_2<eps`\n",
    "    \n",
    "    returns x_K.numpy().tolist()+[f(x_k).numpy()]\n",
    "            where `_k` is the last update made on which a stopping criteria (based on K or eps) was met\n",
    "    '''\n",
    "\n",
    "    x_k = tf.Variable(x0)\n",
    "    \n",
    "    # <complete>\n",
    "    # Note: Don't actually invert the matrix: X(k+1) = X(k) - (∇²f(X(k)))^-1 @ ∇f(X(k))\n",
    "    # Solve for X(k+1) using tf.linalg.solve...\n",
    "    \n",
    "    return x_k.numpy(),f(x_k).numpy()"
   ]
  },
  {
   "cell_type": "markdown",
   "id": "8b3cbe00",
   "metadata": {},
   "source": [
    "## Hints\n",
    "\n",
    "- Examples of how to use TensorFlow to compute higher order partial derivatives are given here: https://www.tensorflow.org/guide/advanced_autodiff\n",
    "- You may ignore warning messages regarding \"triggered tf.function retracing\":\n",
    "    - these indicate that the same function is being repeatedly placed into the automatic differention graph, which happens intentionally in ***Newton's method*** since partial derivatives are being recalculated at different locations for each ***Newton step*** inside `for k in range(K)`.\n",
    "    - and the warnings may be silenced with \n",
    "    \n",
    "    ```python\n",
    "    import logging, os\n",
    "    logging.disable(logging.WARNING)\n",
    "    os.environ[\"TF_CPP_MIN_LOG_LEVEL\"] = \"3\"\n",
    "    ```\n",
    "\n",
    "- If the computation of the ***Hessian*** $H$ is not ***symmetric***, $(H + H^T)/2$ will be ***symmetric***. \n",
    "- If the computation of the ***Hessian*** $H$ has `NaN`s or `0` diagonal elements then \"monkey patch\" them on the basis of the following functions \n",
    "    - `tf.where(tf.math.is_nan(H) & (tf.eye(H.shape[0])==1), 1e-7, H)`\n",
    "    - where, e.g., `H = np.ones((2,2)); H[0,0] = np.NaN; H = tf.Variable(H)`"
   ]
  },
  {
   "cell_type": "markdown",
   "id": "9db2cb8b",
   "metadata": {},
   "source": [
    "## Problem 1 Questions 0-1 (2 points)\n",
    "\n",
    "Local minima will be found with you function for various initializations and parameter settings.\n",
    "\n",
    "- You do not need to make any variable assignments: your function will be called based on the parameterization specified in the problem prompt."
   ]
  },
  {
   "cell_type": "code",
   "execution_count": null,
   "id": "f8919df4",
   "metadata": {},
   "outputs": [],
   "source": [
    "# Cell for scratch work\n",
    "\n",
    "# You are welcome to add as many new cells into this notebook as you would like.\n",
    "# Just do not leave in a state that will produce a runtime errors when notebook cells are run sequentially.\n",
    "\n",
    "# Any cells included for scratch work that are no longer needed may be deleted so long as \n",
    "# - all the required functions are still defined and available when called\n",
    "# - no cells requiring variable assignments are deleted.\n",
    "\n",
    "# None of this will not cause problems with `cell ids` assuming your versioning supports `cell ids`\n",
    "# (as UofT JupyterHub, UofT JupyterLab, an Google Colab will).\n"
   ]
  },
  {
   "cell_type": "code",
   "execution_count": null,
   "id": "606672cc",
   "metadata": {},
   "outputs": [],
   "source": [
    "# Cell for scratch work\n"
   ]
  },
  {
   "cell_type": "code",
   "execution_count": null,
   "id": "410f80aa",
   "metadata": {},
   "outputs": [],
   "source": []
  },
  {
   "cell_type": "markdown",
   "id": "01731dfb",
   "metadata": {},
   "source": [
    "## Problem 1 Question 2 (2 points)\n",
    "\n",
    "2. What is the location of the minimum value of the $d=3$ ***Schwefel function*** subject to the constraint $x_1, x_2, x_3 \\in [-100,100]$ and what is that minimum value?\n",
    "\n",
    "***Hint***: use the following code to find a good initial value for your `newton_method` function.\n",
    "\n",
    "```python\n",
    "grid_n = 11\n",
    "grid = np.meshgrid(*[np.linspace(100,-100,grid_n) for i in range(3)])\n",
    "f = grid[0].copy()\n",
    "f_min = grid[0].copy()\n",
    "for i in range(grid_n):\n",
    "    for j in range(grid_n):\n",
    "        for k in range(grid_n):\n",
    "            f[i,j,k] = schwefel(tf.Variable([grid[0][i,j,k],grid[1][i,j,k],grid[2][i,j,k]], dtype=tf.float32))\n",
    "\n",
    "# some things to look at\n",
    "#min(f.ravel())\n",
    "#for i in range(grid_n):\n",
    "#    print(min(f[i].ravel()))\n",
    "# min(f.ravel()), min(f[i].ravel())\n",
    "# plt.imshow(f[i])\n",
    "# grid[0][f==min(f.ravel())],grid[1][f==min(f.ravel())],grid[2][f==min(f.ravel())]\n",
    "            \n",
    "# this code is more general for different d\n",
    "#grid = np.meshgrid(*[np.linspace(100,-100,grid_n) for i in range(d)])\n",
    "#f = grid[0].flatten()\n",
    "#for i,x0 in enumerate(zip(*[g.ravel() for g in grid])):\n",
    "#    f[i] = schwefel(tf.Variable(x0))\n",
    "#min(f)      \n",
    "```"
   ]
  },
  {
   "cell_type": "code",
   "execution_count": null,
   "id": "f2879ecb",
   "metadata": {
    "deletable": false
   },
   "outputs": [],
   "source": [
    "# 2 points [format: tuble of four numbers; or, the call to the function below\n",
    "                                         # with a good `initial_value` choice]\n",
    "p1q2 = # (x1,x2,x3,y) # newtons_method(schwefel, <initial_value>)\n",
    "\n",
    "# This cell will produce a runtime error until you assign a value to this variable"
   ]
  },
  {
   "cell_type": "code",
   "execution_count": null,
   "id": "1e6821ef",
   "metadata": {},
   "outputs": [],
   "source": [
    "# Cell for scratch work\n",
    "\n",
    "# You are welcome to add as many new cells into this notebook as you would like.\n",
    "# Just do not leave in a state that will produce a runtime errors when notebook cells are run sequentially.\n",
    "\n",
    "# Any cells included for scratch work that are no longer needed may be deleted so long as \n",
    "# - all the required functions are still defined and available when called\n",
    "# - no cells requiring variable assignments are deleted.\n",
    "\n",
    "# None of this will not cause problems with `cell ids` assuming your versioning supports `cell ids`\n",
    "# (as UofT JupyterHub, UofT JupyterLab, an Google Colab will).\n"
   ]
  },
  {
   "cell_type": "code",
   "execution_count": null,
   "id": "1f7fe8b0",
   "metadata": {},
   "outputs": [],
   "source": [
    "# Cell for scratch work\n"
   ]
  },
  {
   "cell_type": "markdown",
   "id": "595d2ad0",
   "metadata": {},
   "source": [
    "## Problem 1 Question 3-4 (1 point)\n",
    "\n",
    "3. (0.5 points) Why is the choice of the initial value important for finding a global optimum for a function like the `schwefel` function? \n",
    "    \n",
    "    1. To increase the speed of convergence of the `newton_method` function\n",
    "    2. Because the `schwefel` function is not convex\n",
    "    3. Because the `newton_method` function won't converge for all initial values \n",
    "    4. It is not important\n",
    "\n",
    "\n",
    "4. (0.5 points) What's wrong with running the `newton_method` function for every initial value in the `grid` for the previous problem? \n",
    "\n",
    "    1. It takes a very long time\n",
    "    2. The grid is not dense enough\n",
    "    3. Nothing is wrong with it -- it is recommended\n",
    "    4. It's cheating to find an optimum with a grid search\n",
    "\n"
   ]
  },
  {
   "cell_type": "code",
   "execution_count": null,
   "id": "ae042f52",
   "metadata": {
    "deletable": false
   },
   "outputs": [],
   "source": [
    "# 0.5 points each [format: `str` either \"A\" or \"B\" or \"C\" or \"D\" based on the choices above]\n",
    "p1q3 = #<\"A\"|\"B\"|\"C\"|\"D\"> \n",
    "p1q4 = #<\"A\"|\"B\"|\"C\"|\"D\"> \n",
    "# Uncomment the above and keep each only either \"A\" or \"B\" or \"C\" or \"D\"\n",
    "\n",
    "# This cell will produce a runtime error until the `p1q3` and `p1q4` variables are assigned values"
   ]
  }
 ],
 "metadata": {
  "celltoolbar": "Edit Metadata",
  "kernelspec": {
   "display_name": "Python 3 (ipykernel)",
   "language": "python",
   "name": "python3"
  },
  "language_info": {
   "codemirror_mode": {
    "name": "ipython",
    "version": 3
   },
   "file_extension": ".py",
   "mimetype": "text/x-python",
   "name": "python",
   "nbconvert_exporter": "python",
   "pygments_lexer": "ipython3",
   "version": "3.11.4"
  }
 },
 "nbformat": 4,
 "nbformat_minor": 5
}
