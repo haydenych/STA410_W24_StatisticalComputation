{
 "cells": [
  {
   "cell_type": "code",
   "execution_count": null,
   "id": "2e256d28",
   "metadata": {
    "deletable": false,
    "editable": false
   },
   "outputs": [],
   "source": [
    "# You may use any functions available from the following library imports\n",
    "import numpy as np\n",
    "import tensorflow as tf\n",
    "import matplotlib.pyplot as plt"
   ]
  },
  {
   "cell_type": "markdown",
   "id": "8ecad32d",
   "metadata": {},
   "source": [
    "# Problem 3 (8 points)\n",
    "\n",
    "Complete the function `nonlinear_gauss_seidel(f, x0, x_constraint, N=100, a=0.1, eps=0.1, K=20)` for use with the [Eggholder function](https://www.sfu.ca/~ssurjano/egg.html)\n",
    "\n",
    "$$-(x_2 + 47) \\sin\\left(\\sqrt{\\left|x_2+\\frac{x_1}{2} +47\\right|}\\right) - x_1\\sin\\left(\\sqrt{\\left| x_1 - (x_2+47)\\right|} \\right)$$\n",
    "\n",
    "*This problem draws upon the outstanding materials created by [Sonja Surjanovic and Derek Bingham](https://www.sfu.ca/~ssurjano/index.html) of the [Department of Statistics and Actuarial Science at Simon Fraser University](https://www.sfu.ca/stat-actsci.html); specifically, their [optimization resources](https://www.sfu.ca/~ssurjano/optimization.html) which includes an extensive collection of multimodal functions.*"
   ]
  },
  {
   "cell_type": "code",
   "execution_count": null,
   "id": "3869f8ca",
   "metadata": {},
   "outputs": [],
   "source": [
    "import tensorflow as tf\n",
    "# https://www.tensorflow.org/guide/function#basics\n",
    "tf_Variable = tf.TensorSpec(shape=[], dtype=tf.float32)\n",
    "@tf.function(input_signature=(tf_Variable, tf_Variable, ))\n",
    "def eggholder(x1,x2):\n",
    "    y = -(x2+47)*tf.math.sin(tf.sqrt(tf.math.abs(x2+x1/2+47)))\n",
    "    return y - x1*tf.math.sin(tf.sqrt(tf.math.abs(x1-(x2+47))))\n",
    "\n",
    "def nonlinear_gauss_seidel(f, x0, x_constraint, N=20, a=0.1, eps=0.1, K=100):\n",
    "    \n",
    "    '''\n",
    "    Nonlinear Gauss-Seidel using Univariate Gradient Descent with TensorFlow\n",
    "    \n",
    "    f   : @tf.function(input_signature=(tf_Variable, tf_Variable, ))\n",
    "    x0  : (float,float) initialization \n",
    "    x_constraint : [[min_x1,max_x1],[min_x2,max_x2]) \n",
    "                   xi_t exceeding bounds is reassinged exceeded bound endpoint                   \n",
    "    N   : (default 100) number of Gauss-Seidel cycles\n",
    "    a   : (default 0.1) gradient descent step size factor\n",
    "    eps : (default 0.1) stopping criterion `|tape.gradient(y, x2)|<eps`\n",
    "    K   : (default 100) stopping criterion maximum number of gradient descent steps\n",
    "    \n",
    "    returns x1_N.numpy(),x2_N.numpy(),f(x1_N,x2_N).numpy()\n",
    "            where `_N` indicates completion of Nonlinear Gauss-Seidel cycles\n",
    "    '''\n",
    "    \n",
    "    x1 = tf.Variable(x0[0])\n",
    "    x2 = tf.Variable(x0[1])\n",
    "    \n",
    "    # <complete>\n",
    "                    \n",
    "    return x1.numpy(),x2.numpy(),f(x1,x2).numpy()"
   ]
  },
  {
   "cell_type": "markdown",
   "id": "d4cbc24f",
   "metadata": {},
   "source": [
    "## Hints\n",
    "\n",
    "- Early stopping conditions can be enforced with `break`\n",
    "```\n",
    "for i in range(10):\n",
    "    if i==5:\n",
    "        break\n",
    "print(i)\n",
    "```\n",
    "\n",
    "- Numpy floating point type can be set with `dtype=np.float32`\n",
    "\n",
    "- TensorFlow operations require specific function calls, e.g., `y - x1*tf.math.sin(tf.math.abs(x1-(x2+47)))`\n",
    "\n",
    "- Parital derivatives in TensorFlow are calculated as\n",
    "```\n",
    "x1 = tf.Variable(x1_0)\n",
    "with tf.GradientTape() as tape:\n",
    "    y = f(x1,x2)\n",
    "    dy_dx1 = tape.gradient(y, x1) # the derivative of (tf variable) y \n",
    "                                  # with respect to (tf variable) x1\n",
    "```"
   ]
  },
  {
   "cell_type": "markdown",
   "id": "cc086098",
   "metadata": {},
   "source": [
    "## Problem 3 Questions 1-3 (6 points)\n",
    "\n",
    "Local minima will be found with you function for various initializations and parameter settings.\n",
    "\n",
    "- You do not need to assign any variables: your function will be called based on the parameterization specified in the prompt."
   ]
  },
  {
   "cell_type": "markdown",
   "id": "084a66e2",
   "metadata": {},
   "source": [
    "### Problem 3 Question 4 (2 points)\n",
    "\n",
    "What is the location of the minimum value of the ***Eggholder function*** subject to the constraint $x_1, x_2 \\in [-500,500]$ and what is that minimum value?"
   ]
  },
  {
   "cell_type": "code",
   "execution_count": null,
   "id": "4628e0b1",
   "metadata": {
    "deletable": false
   },
   "outputs": [],
   "source": [
    "# 2 points\n",
    "p3q4 = (x1,x2,y) # tuple of floating point values with 3 decimal digits of precision after 0."
   ]
  }
 ],
 "metadata": {
  "celltoolbar": "Edit Metadata",
  "kernelspec": {
   "display_name": "Python 3 (ipykernel)",
   "language": "python",
   "name": "python3"
  },
  "language_info": {
   "codemirror_mode": {
    "name": "ipython",
    "version": 3
   },
   "file_extension": ".py",
   "mimetype": "text/x-python",
   "name": "python",
   "nbconvert_exporter": "python",
   "pygments_lexer": "ipython3",
   "version": "3.11.4"
  }
 },
 "nbformat": 4,
 "nbformat_minor": 5
}
