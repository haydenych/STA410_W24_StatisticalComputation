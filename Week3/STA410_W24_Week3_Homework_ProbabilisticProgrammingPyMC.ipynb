{
 "cells": [
  {
   "cell_type": "markdown",
   "id": "36742a82",
   "metadata": {},
   "source": [
    "# Homework #3\n",
    "\n",
    "0. Find a classification data set on [kaggle](https://www.kaggle.com)\n",
    "1. Peform posterior inference for this data using a Bayesian logistic regression analysis with `PyMC` \n",
    "    - You should know that logistic regression defines the [probability](https://en.wikipedia.org/wiki/Logistic_regression#Model) of a [Bernoulli](https://en.wikipedia.org/wiki/Binomial_distribution#Probability_mass_function) outcome distribution, but if you're unfamiliar with this model you'll be able to find many explanations online\n",
    "    - **For half credit** you can simply use the [out of the box PyMC logistic regression](https://www.pymc.io/projects/docs/en/v3/pymc-examples/examples/generalized_linear_models/GLM-logistic.html)\n",
    "    - **For 3/4 credit** don't use the above function, and instead specify your own priors for the $\\beta$ coefficients, use a logit link function, and the matrix multiplication form of logistic regression    \n",
    "        - Here's a [simple linear regression](https://www.pymc.io/projects/docs/en/v3.11.4/pymc-examples/examples/generalized_linear_models/GLM-linear.html) example, but by dropping `intercept = Normal(\"Intercept\", 0, sigma=20)` and using the `shape` parameter for `x_coeff = Normal(\"x\", 0, sigma=20)` you can treat `x_coeff` as a vector and do multiple linear regression based on `pm.math.dot(X, x_coeff)` for any design matrix `X` in the manner described here [here](https://discourse.pymc.io/t/matrix-multiplication-in-pymc3/111x4) (although they don't incorporate the intercept into the `x_coeff` vector in that example, which I would suggest you do unless you want to specify the intercept prior distinctly)     \n",
    "    - **For full credit** use a probit link function instead of a logit link function\n",
    "\n",
    "\n",
    "2. Your posterior inference should be similar to that of the \"Getting Started\" material [here](https://www.pymc.io/projects/docs/en/stable/learn/core_notebooks/pymc_overview.html#model-checking).\n",
    "\n",
    "3. There will be no MarkUs autochecks in the usual manner for this assignment; but, submit your notebook in the usual way on MarkUs except ensure all your figures have been rendered in your notebook upon submission as the evaluation of yoru work will be besed upon a visual inspection of your code and figure\n"
   ]
  },
  {
   "cell_type": "code",
   "execution_count": null,
   "id": "95569e87",
   "metadata": {},
   "outputs": [],
   "source": []
  }
 ],
 "metadata": {
  "kernelspec": {
   "display_name": "Python 3 (ipykernel)",
   "language": "python",
   "name": "python3"
  },
  "language_info": {
   "codemirror_mode": {
    "name": "ipython",
    "version": 3
   },
   "file_extension": ".py",
   "mimetype": "text/x-python",
   "name": "python",
   "nbconvert_exporter": "python",
   "pygments_lexer": "ipython3",
   "version": "3.11.4"
  }
 },
 "nbformat": 4,
 "nbformat_minor": 5
}
