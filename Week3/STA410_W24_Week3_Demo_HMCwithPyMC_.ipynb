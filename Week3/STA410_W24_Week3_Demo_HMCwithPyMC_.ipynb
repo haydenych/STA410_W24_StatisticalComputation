{
 "cells": [
  {
   "cell_type": "code",
   "execution_count": null,
   "metadata": {
    "colab": {
     "base_uri": "https://localhost:8080/",
     "height": 166
    },
    "id": "yQZhrasGUaFG",
    "outputId": "3e3a2169-dfd2-412f-c4d3-e72cd65382cc"
   },
   "outputs": [
    {
     "name": "stderr",
     "output_type": "stream",
     "text": [
      "INFO:pymc:Auto-assigning NUTS sampler...\n",
      "INFO:pymc:Initializing NUTS using jitter+adapt_diag...\n",
      "INFO:pymc:Sequential sampling (2 chains in 1 job)\n",
      "INFO:pymc:NUTS: [mu, tau, theta]\n"
     ]
    },
    {
     "data": {
      "text/html": [
       "\n",
       "<style>\n",
       "    /* Turns off some styling */\n",
       "    progress {\n",
       "        /* gets rid of default border in Firefox and Opera. */\n",
       "        border: none;\n",
       "        /* Needs to be in here for Safari polyfill so background images work as expected. */\n",
       "        background-size: auto;\n",
       "    }\n",
       "    progress:not([value]), progress:not([value])::-webkit-progress-bar {\n",
       "        background: repeating-linear-gradient(45deg, #7e7e7e, #7e7e7e 10px, #5c5c5c 10px, #5c5c5c 20px);\n",
       "    }\n",
       "    .progress-bar-interrupted, .progress-bar-interrupted::-webkit-progress-bar {\n",
       "        background: #F44336;\n",
       "    }\n",
       "</style>\n"
      ],
      "text/plain": [
       "<IPython.core.display.HTML object>"
      ]
     },
     "metadata": {},
     "output_type": "display_data"
    },
    {
     "data": {
      "text/html": [
       "\n",
       "    <div>\n",
       "      <progress value='6000' class='' max='6000' style='width:300px; height:20px; vertical-align: middle;'></progress>\n",
       "      100.00% [6000/6000 00:23&lt;00:00 Sampling chain 0, 148 divergences]\n",
       "    </div>\n",
       "    "
      ],
      "text/plain": [
       "<IPython.core.display.HTML object>"
      ]
     },
     "metadata": {},
     "output_type": "display_data"
    },
    {
     "data": {
      "text/html": [
       "\n",
       "<style>\n",
       "    /* Turns off some styling */\n",
       "    progress {\n",
       "        /* gets rid of default border in Firefox and Opera. */\n",
       "        border: none;\n",
       "        /* Needs to be in here for Safari polyfill so background images work as expected. */\n",
       "        background-size: auto;\n",
       "    }\n",
       "    progress:not([value]), progress:not([value])::-webkit-progress-bar {\n",
       "        background: repeating-linear-gradient(45deg, #7e7e7e, #7e7e7e 10px, #5c5c5c 10px, #5c5c5c 20px);\n",
       "    }\n",
       "    .progress-bar-interrupted, .progress-bar-interrupted::-webkit-progress-bar {\n",
       "        background: #F44336;\n",
       "    }\n",
       "</style>\n"
      ],
      "text/plain": [
       "<IPython.core.display.HTML object>"
      ]
     },
     "metadata": {},
     "output_type": "display_data"
    },
    {
     "data": {
      "text/html": [
       "\n",
       "    <div>\n",
       "      <progress value='6000' class='' max='6000' style='width:300px; height:20px; vertical-align: middle;'></progress>\n",
       "      100.00% [6000/6000 00:18&lt;00:00 Sampling chain 1, 87 divergences]\n",
       "    </div>\n",
       "    "
      ],
      "text/plain": [
       "<IPython.core.display.HTML object>"
      ]
     },
     "metadata": {},
     "output_type": "display_data"
    },
    {
     "name": "stderr",
     "output_type": "stream",
     "text": [
      "INFO:pymc:Sampling 2 chains for 1_000 tune and 5_000 draw iterations (2_000 + 10_000 draws total) took 43 seconds.\n",
      "INFO:pymc:We recommend running at least 4 chains for robust computation of convergence diagnostics\n"
     ]
    }
   ],
   "source": [
    "# This is a classic example of a hierarchical \"random effects\" Bayesian model \n",
    "# The probabilistic specification and the code below can be found here:\n",
    "# https://docs.pymc.io/en/v3/pymc-examples/examples/diagnostics_and_criticism/Diagnosing_biased_Inference_with_Divergences.html\n",
    "# https://www.pymc.io/projects/examples/en/latest/diagnostics_and_criticism/Diagnosing_biased_Inference_with_Divergences.html#diagnosing-with-divergences\n",
    "\n",
    "import logging\n",
    "_log = logging.getLogger(\"pymc\")\n",
    "_log.setLevel(logging.INFO) # Option 0\n",
    "#_log.setLevel(logging.WARNING) # Option 1\n",
    "#_log.setLevel(logging.ERROR) # Option 2\n",
    "\n",
    "# Suppose there are 8 groups with average measurements y and standard error sigma\n",
    "# where the standard errors have to do with sample size and intergroup variaion\n",
    "J = 8\n",
    "y = np.array([28.0, 8.0, -3.0, 7.0, -1.0, 1.0, 18.0, 12.0])\n",
    "sigma = np.array([15.0, 10.0, 16.0, 11.0, 9.0, 11.0, 10.0, 18.0])\n",
    "# Suppose we are interested in learning the overall average across all 8 groups\n",
    "# accounting for the uncertainty in each of the measurements of the groups\n",
    "# using the following probabilisitic programming specification\n",
    "with pm.Model() as Centered_eight:\n",
    "    # we assume the following prior distributions for our parameters\n",
    "    mu = pm.Normal(\"mu\", mu=0, sigma=5)\n",
    "    tau = pm.HalfCauchy(\"tau\", beta=5) \n",
    "    # and we assume the following probabilistic hierarchy\n",
    "    theta = pm.Normal(\"theta\", mu=mu, sigma=tau, shape=J)\n",
    "    # Note that if tau was small, then the density evalution above \n",
    "    # could change rapidly for changes in theta\n",
    "    # This means that the energy has high curvature \n",
    "    obs = pm.Normal(\"obs\", mu=theta, sigma=sigma, observed=y)\n",
    "\n",
    "# This model can be sampled using HMC\n",
    "# The auxiliary variables are added to the specification \"under the hood\"\n",
    "SEED = [20100420, 20134234] # random seeds for each of two run HMC chains\n",
    "with Centered_eight:\n",
    "    fit_C = pm.sample(5000, chains=2, tune=1000, random_seed=SEED,\n",
    "                      return_inferencedata=True, idata_kwargs={\"log_likelihood\": True}) "
   ]
  },
  {
   "cell_type": "code",
   "execution_count": null,
   "metadata": {
    "id": "rncKQuajg_vR"
   },
   "outputs": [],
   "source": [
    "# previous versions of pymc, i.e., pymc3 gave the following errors\n",
    "\n",
    "#ERROR:pymc3:There were 100 divergences after tuning. Increase `target_accept` or reparameterize.\n",
    "#WARNING:pymc3:The acceptance probability does not match the target. It is 0.7073435948155605, but should be close to 0.8. Try to increase the number of tuning steps.\n",
    "#ERROR:pymc3:There were 265 divergences after tuning. Increase `target_accept` or reparameterize.\n",
    "#WARNING:pymc3:The acceptance probability does not match the target. It is 0.6771097025238918, but should be close to 0.8. Try to increase the number of tuning steps.\n",
    "#ERROR:pymc3:The estimated number of effective samples is smaller than 200 for some parameters.\n",
    "\n",
    "# but the most recent versions of pymc no longer track this, so\n",
    "# `_log.setLevel(logging.WARNING)` and `_log.setLevel(logging.ERROR)`\n",
    "# have no effect now"
   ]
  },
  {
   "cell_type": "code",
   "execution_count": null,
   "metadata": {
    "colab": {
     "base_uri": "https://localhost:8080/",
     "height": 166
    },
    "id": "TsmtGIM4i_a2",
    "outputId": "3b271199-cc8a-4f8e-f28a-41823feaced3"
   },
   "outputs": [
    {
     "name": "stderr",
     "output_type": "stream",
     "text": [
      "INFO:pymc:Auto-assigning NUTS sampler...\n",
      "INFO:pymc:Initializing NUTS using jitter+adapt_diag...\n",
      "INFO:pymc:Sequential sampling (2 chains in 1 job)\n",
      "INFO:pymc:NUTS: [mu, tau, theta_t]\n"
     ]
    },
    {
     "data": {
      "text/html": [
       "\n",
       "<style>\n",
       "    /* Turns off some styling */\n",
       "    progress {\n",
       "        /* gets rid of default border in Firefox and Opera. */\n",
       "        border: none;\n",
       "        /* Needs to be in here for Safari polyfill so background images work as expected. */\n",
       "        background-size: auto;\n",
       "    }\n",
       "    progress:not([value]), progress:not([value])::-webkit-progress-bar {\n",
       "        background: repeating-linear-gradient(45deg, #7e7e7e, #7e7e7e 10px, #5c5c5c 10px, #5c5c5c 20px);\n",
       "    }\n",
       "    .progress-bar-interrupted, .progress-bar-interrupted::-webkit-progress-bar {\n",
       "        background: #F44336;\n",
       "    }\n",
       "</style>\n"
      ],
      "text/plain": [
       "<IPython.core.display.HTML object>"
      ]
     },
     "metadata": {},
     "output_type": "display_data"
    },
    {
     "data": {
      "text/html": [
       "\n",
       "    <div>\n",
       "      <progress value='6000' class='' max='6000' style='width:300px; height:20px; vertical-align: middle;'></progress>\n",
       "      100.00% [6000/6000 00:09&lt;00:00 Sampling chain 0, 25 divergences]\n",
       "    </div>\n",
       "    "
      ],
      "text/plain": [
       "<IPython.core.display.HTML object>"
      ]
     },
     "metadata": {},
     "output_type": "display_data"
    },
    {
     "data": {
      "text/html": [
       "\n",
       "<style>\n",
       "    /* Turns off some styling */\n",
       "    progress {\n",
       "        /* gets rid of default border in Firefox and Opera. */\n",
       "        border: none;\n",
       "        /* Needs to be in here for Safari polyfill so background images work as expected. */\n",
       "        background-size: auto;\n",
       "    }\n",
       "    progress:not([value]), progress:not([value])::-webkit-progress-bar {\n",
       "        background: repeating-linear-gradient(45deg, #7e7e7e, #7e7e7e 10px, #5c5c5c 10px, #5c5c5c 20px);\n",
       "    }\n",
       "    .progress-bar-interrupted, .progress-bar-interrupted::-webkit-progress-bar {\n",
       "        background: #F44336;\n",
       "    }\n",
       "</style>\n"
      ],
      "text/plain": [
       "<IPython.core.display.HTML object>"
      ]
     },
     "metadata": {},
     "output_type": "display_data"
    },
    {
     "data": {
      "text/html": [
       "\n",
       "    <div>\n",
       "      <progress value='6000' class='' max='6000' style='width:300px; height:20px; vertical-align: middle;'></progress>\n",
       "      100.00% [6000/6000 00:10&lt;00:00 Sampling chain 1, 8 divergences]\n",
       "    </div>\n",
       "    "
      ],
      "text/plain": [
       "<IPython.core.display.HTML object>"
      ]
     },
     "metadata": {},
     "output_type": "display_data"
    },
    {
     "name": "stderr",
     "output_type": "stream",
     "text": [
      "INFO:pymc:Sampling 2 chains for 1_000 tune and 5_000 draw iterations (2_000 + 10_000 draws total) took 20 seconds.\n",
      "INFO:pymc:We recommend running at least 4 chains for robust computation of convergence diagnostics\n"
     ]
    }
   ],
   "source": [
    "# As is seen above, there are many divergences; and, the acceptance rate is quite low\n",
    "# This is because the specification above induces high curature in the energy \n",
    "# as described above; but, here's a specification that alleviates this problem.\n",
    "\n",
    "with pm.Model() as NonCentered_eight:\n",
    "    mu = pm.Normal(\"mu\", mu=0, sigma=5)\n",
    "    tau = pm.HalfCauchy(\"tau\", beta=5)\n",
    "    theta_tilde = pm.Normal(\"theta_t\", mu=0, sigma=1, shape=J)\n",
    "    # Changes in theta now take place on a fixed scale that is independent of tau\n",
    "    theta = pm.Deterministic(\"theta\", mu + tau * theta_tilde)\n",
    "    # Changes in tau can still result in rapid changes in the density evaluations below\n",
    "    # so the energy still has high curvature with respect to tau; but, \n",
    "    # it no longer has high curvature with respect to theta\n",
    "    obs = pm.Normal(\"obs\", mu=theta, sigma=sigma, observed=y)\n",
    "\n",
    "with NonCentered_eight:\n",
    "    fit_NC = pm.sample(5000, chains=2, tune=1000, random_seed=SEED, \n",
    "                       return_inferencedata=True, idata_kwargs={\"log_likelihood\": True}) \n",
    "# The suggestion to \"Increase `target_accept`\" below means use smaller\n",
    "# \\delta time steps when evolving the Hamiltonian dynamics:\n",
    "# this would result in fewer divergences and higher acceptances rates"
   ]
  },
  {
   "cell_type": "code",
   "execution_count": null,
   "metadata": {
    "id": "0Nk5gBfgVGTZ"
   },
   "outputs": [],
   "source": [
    "# These warnings are no longer tracked\n",
    "# ERROR:pymc3:There were 21 divergences after tuning. Increase `target_accept` or reparameterize.\n",
    "# ERROR:pymc3:There were 40 divergences after tuning. Increase `target_accept` or reparameterize."
   ]
  },
  {
   "cell_type": "code",
   "execution_count": null,
   "metadata": {
    "id": "anJ-Yi9VVB6o"
   },
   "outputs": [],
   "source": [
    "# Current support for examining sampling diagnostics is given here\n",
    "# https://www.pymc.io/projects/examples/en/latest/diagnostics_and_criticism/sampler-stats.html\n",
    "# Demonstrations of posterior analysis is demonstrated here \n",
    "# https://www.pymc.io/projects/docs/en/stable/learn/core_notebooks/pymc_overview.html#posterior-analysis\n",
    "# and will be explored during your final homework assignment"
   ]
  },
  {
   "cell_type": "code",
   "execution_count": null,
   "metadata": {
    "colab": {
     "base_uri": "https://localhost:8080/",
     "height": 390
    },
    "id": "7f3Q5U72qNq4",
    "outputId": "12a41e31-df9f-44ae-ec7f-4bec69273ee5"
   },
   "outputs": [
    {
     "name": "stdout",
     "output_type": "stream",
     "text": [
      "Centered Parameterization:\n",
      "- divergences require decreased step size and hence increasing HMC chain dependency\n",
      "- and hence decreased effective sample size\n",
      "Uncentered Parameterization:\n",
      "- less divergences alows longer contour trajectories step size and hence increasing HMC chain dependency\n",
      "- and hence decreased effective sample size\n"
     ]
    },
    {
     "data": {
      "image/png": "[encoded data removed]",
      "text/plain": [
       "<Figure size 432x288 with 1 Axes>"
      ]
     },
     "metadata": {
      "needs_background": "light"
     },
     "output_type": "display_data"
    }
   ],
   "source": [
    "print('Centered Parameterization:')\n",
    "print('- divergences require decreased step size and hence increasing HMC chain dependency')\n",
    "print('- and hence decreased effective sample size')\n",
    "with Centered_eight: \n",
    "  plt.hist(pm.summary(fit_C)['ess_bulk']/10000,\n",
    "           label = \"Centered Parameterization\")\n",
    "print('Uncentered Parameterization:')\n",
    "print('- less divergences alows longer contour trajectories step size and hence increasing HMC chain dependency')\n",
    "print('- and hence decreased effective sample size')\n",
    "with NonCentered_eight: \n",
    "  plt.hist(pm.summary(fit_NC)['ess_bulk'][9:]/10000,\n",
    "           label = \"UNCentered Parameterization\")\n",
    "plt.legend(); plt.title(\"Bulk effective sample size as a proporition of MCMC n\"); plt.xlim((0,1.2));"
   ]
  },
  {
   "cell_type": "code",
   "execution_count": null,
   "metadata": {
    "colab": {
     "base_uri": "https://localhost:8080/"
    },
    "id": "9M2YiS9vpXAn",
    "outputId": "9c66280e-f816-4b47-dead-c0ee0558e297"
   },
   "outputs": [
    {
     "name": "stdout",
     "output_type": "stream",
     "text": [
      "mu          1534.0\n",
      "theta[0]    1858.0\n",
      "theta[1]    2541.0\n",
      "theta[2]    2645.0\n",
      "theta[3]    2686.0\n",
      "theta[4]    2197.0\n",
      "theta[5]    2558.0\n",
      "theta[6]    1944.0\n",
      "theta[7]    2705.0\n",
      "tau          381.0\n",
      "Name: ess_bulk, dtype: float64\n"
     ]
    }
   ],
   "source": [
    "# Above are histograms of the effective sample size \n",
    "# as a fraction of of the number of HMC samples\n",
    "# for each of the parameters in the model\n",
    "with Centered_eight: \n",
    "  print(pm.summary(fit_C)['ess_bulk'])"
   ]
  },
  {
   "cell_type": "code",
   "execution_count": null,
   "metadata": {
    "colab": {
     "base_uri": "https://localhost:8080/"
    },
    "id": "shWMoCVQpZuo",
    "outputId": "f826d8e0-ec99-48f2-c8b9-1e814850a641"
   },
   "outputs": [
    {
     "name": "stdout",
     "output_type": "stream",
     "text": [
      "mu             9312.0\n",
      "theta_t[0]    10129.0\n",
      "theta_t[1]     9280.0\n",
      "theta_t[2]    11847.0\n",
      "theta_t[3]     9086.0\n",
      "theta_t[4]     7475.0\n",
      "theta_t[5]     8972.0\n",
      "theta_t[6]     7980.0\n",
      "theta_t[7]     8229.0\n",
      "tau            5819.0\n",
      "theta[0]       9928.0\n",
      "theta[1]      11003.0\n",
      "theta[2]       9448.0\n",
      "theta[3]      10218.0\n",
      "theta[4]       9752.0\n",
      "theta[5]      10726.0\n",
      "theta[6]       9559.0\n",
      "theta[7]       9480.0\n",
      "Name: ess_bulk, dtype: float64\n"
     ]
    }
   ],
   "source": [
    "# the noncentered parameterization keeps track of theta_t on the N(0,1) scale\n",
    "# but the deterministically transformed theta is really the parameter that matters\n",
    "with NonCentered_eight: \n",
    "  print(pm.summary(fit_NC)['ess_bulk'])"
   ]
  },
  {
   "cell_type": "code",
   "execution_count": null,
   "metadata": {
    "colab": {
     "base_uri": "https://localhost:8080/",
     "height": 281
    },
    "id": "ziSdXYkWpeTJ",
    "outputId": "815a7cca-d76a-4092-8bb6-5cbd3027dbc5"
   },
   "outputs": [
    {
     "data": {
      "image/png": "[encoded data removed]",
      "text/plain": [
       "<Figure size 432x288 with 1 Axes>"
      ]
     },
     "metadata": {
      "needs_background": "light"
     },
     "output_type": "display_data"
    }
   ],
   "source": [
    "# Here is another interesting diagnostic which shows the effective sample size\n",
    "# when restricted to samples in the tails of the HMC samples.\n",
    "# It suggests how efficiently the HMC samples traverse the extremes of the distribution\n",
    "with Centered_eight: \n",
    "  plt.hist(pm.summary(fit_C)['ess_tail']/10000,\n",
    "           label = \"Centered Parameterization\")\n",
    "with NonCentered_eight: \n",
    "  plt.hist(pm.summary(fit_NC)['ess_tail'][9:]/10000,\n",
    "           label = \"UNCentered Parameterization\")\n",
    "plt.legend(); plt.title(\"Tail effective sample size as a proporition of MCMC n\"); plt.xlim((0,1.2));"
   ]
  },
  {
   "cell_type": "code",
   "execution_count": null,
   "metadata": {
    "id": "CrTz1k6cqTLP"
   },
   "outputs": [],
   "source": []
  }
 ],
 "metadata": {
  "celltoolbar": "Slideshow",
  "colab": {
   "provenance": []
  },
  "kernelspec": {
   "display_name": "Python 3 (ipykernel)",
   "language": "python",
   "name": "python3"
  },
  "language_info": {
   "codemirror_mode": {
    "name": "ipython",
    "version": 3
   },
   "file_extension": ".py",
   "mimetype": "text/x-python",
   "name": "python",
   "nbconvert_exporter": "python",
   "pygments_lexer": "ipython3",
   "version": "3.11.4"
  }
 },
 "nbformat": 4,
 "nbformat_minor": 1
}
