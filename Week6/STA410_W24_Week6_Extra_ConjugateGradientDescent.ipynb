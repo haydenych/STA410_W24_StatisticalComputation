{
 "cells": [
  {
   "cell_type": "markdown",
   "id": "c3aa0add",
   "metadata": {},
   "source": [
    "# STA410 Week 6 EXTRA OPTIONAL Programming Assignment (5 points)\n",
    "\n",
    "0. **Paired or individual assignment.** Create code solutions for these assignments either individually or in the context of a paired effort. \n",
    "\n",
    "   >  Seek homework partners in class, in course discussion board on piazza, etc.   \n",
    " \n",
    "    \n",
    "1. **Paired students each separately submit their (common) work, including (agreeing) contribution of work statements for each problem.**  \n",
    "  \n",
    "   > Students must work in accordance with the [University of Toronto’s Code of Behaviour on Academic Matters](https://governingcouncil.utoronto.ca/secretariat/policies/code-behaviour-academic-matters-july-1-2019) (and see also http://academicintegrity.utoronto.ca.); however, students working in pairs may share work without restriction within their pair. Getting and sharing \"hints\" from other classmates is encouraged; but, the eventual code creation work and submission must be your own individual or paired creation.\n",
    "      \n",
    "2. **Do not delete, replace, or rearranged cells** as this erases `cell ids` upon which automated code tests are based.\n",
    "\n",
    "   > The \"Edit > Undo Delete Cells\" option in the notebook editor might be helpful; otherwise, redownload the notebook (so it has the correct required `cells ids`) and repopulate it with your answers (assuming you don't overwrite them when you redownload the notebook).\n",
    "  >> ***If you are working in any environment other than*** [UofT JupyterHub](https://jupyter.utoronto.ca/hub/user-redirect/git-pull?repo=https://github.com/pointOfive/sta410hw0&branch=master), [Google Colab](https://colab.research.google.com/github/pointOfive/sta410hw0/blob/master/sta410hw0.ipynb), or [UofT JupyterLab](https://jupyter.utoronto.ca/hub/user-redirect/git-pull?repo=https://github.com/pointOfive/sta410hw0&branch=master&urlpath=/lab/tree/sta410hw0), your system must meet the following versioning requirements \n",
    "   >>\n",
    "   >>   - [notebook format >=4.5](https://github.com/jupyterlab/jupyterlab/issues/9729) \n",
    "   >>   - jupyter [notebook](https://jupyter.org/install#jupyter-notebook) version [>=6.2](https://jupyter-notebook.readthedocs.io/en/stable/) for \"classic\" notebooks served by [jupyterhub](https://jupyterhub.readthedocs.io/en/stable/quickstart.html)\n",
    "   >>   - [jupyterlab](https://jupyter.org/install) version [>=3.0.13](https://github.com/jupyterlab/jupyterlab/releases/tag/v3.0.13) for \"jupyterlab\" notebooks  \n",
    "   >>    \n",
    "   >> otherwise `cell ids` mat not be supported and you will not get any credit for your submitted homework.\n",
    "   >>\n",
    "   >> You may check if `cell ids` are present and working by running the following command in a cell \n",
    "   >>\n",
    "   >> `! grep '\"id\":' <path/to/notebook>.ipynb`\n",
    "   >>\n",
    "   >> and making sure the `cell ids` **do not change** when you save your notebook.\n",
    "   \n",
    "3. ***You may add cells for scratch work*** but if required answers are not submitted through the provided cells where the answers are requested your answers may not be marked.\n",
    "\n",
    " \n",
    "4. **No cells may have any runtime errors** because this causes subsequent automated code tests to fail and you will not get marks for tests which fail because of previous runtime errors. \n",
    "\n",
    "  > Run time errors include, e.g., unassigned variables, mismatched parentheses, and any code which does not work when the notebook cells are sequentially run, even if it was provided for you as part of the starter code. ***It is best to restart and re-run the cells in your notebook to ensure there are no runtime errors before submitting your work.***\n",
    "  >\n",
    "  > - The `try`-`except` block syntax catches runtime errors and transforms them into `exceptions` which will not cause subsequent automated code tests to fail.  \n",
    "\n",
    "\n",
    "5. **No jupyter shortcut commands** such as `! python script.py 10` or `%%timeit` may be included in the final submission as they will cause subsequent automated code tests to fail.\n",
    "\n",
    "   > ***Comment out ALL jupyter shortcut commands***, e.g., `# ! python script.py 10` or `# %%timeit` in submitted notebooks.\n",
    "\n",
    "\n",
    "6. **Python library imports are limited** to only libraries imported in the starter code and the [standard python modules](https://docs.python.org/3/py-modindex.html). Importing additional libraries will cause subsequent automated code tests to fail.\n",
    "\n",
    "  > Unless a problem instructs differently, you may use any functions available from the libraries imported in the starter code; otherwise, you are expected to create your own Python functionality based on the Python stdlib (standard libary, i.e., base Python and standard Python modules).\n",
    "\n",
    "\n",
    "7. You are encouraged to adapt code you find available online into your notebook; however, if you do so please provide a link to the utilized resource. ***If failure to cite such references is identified and confirmed, your mark will be immediately reduced to 0.***  "
   ]
  },
  {
   "cell_type": "code",
   "execution_count": null,
   "id": "2e256d28",
   "metadata": {
    "deletable": false,
    "editable": false
   },
   "outputs": [],
   "source": [
    "# You may use any functions available from the following library imports\n",
    "import numpy as np\n",
    "from scipy import stats\n",
    "import time"
   ]
  },
  {
   "cell_type": "markdown",
   "id": "8d48de6e",
   "metadata": {},
   "source": [
    "# Problem 0 (required)\n",
    "\n",
    "Are you working with a partner to complete this assignment?  \n",
    "- If not, assign  the value of `None` into the variable `Partner`.\n",
    "- If so, assign the name of the person you worked with into the variable `Partner`.\n",
    "    - Format the name as `\"<First Name> <Last Name>\"` as a `str` type."
   ]
  },
  {
   "cell_type": "code",
   "execution_count": null,
   "id": "cf78081a",
   "metadata": {
    "deletable": false
   },
   "outputs": [],
   "source": [
    "# Required\n",
    "Partner = #None"
   ]
  },
  {
   "cell_type": "markdown",
   "id": "d482b3e6",
   "metadata": {},
   "source": [
    "What was your contribution in completing the code for this assignments problems? Assign one of the following into each of the `Problem_X` variables below.\n",
    "\n",
    "- `\"I worked alone\"`\n",
    "- `\"I contributed more than my partner\"`\n",
    "- `\"My partner and I contributed equally\"`\n",
    "- `\"I contributed less than my partner\"`\n",
    "- `\"I did not contribute\"`"
   ]
  },
  {
   "cell_type": "code",
   "execution_count": null,
   "id": "6589b6a8",
   "metadata": {
    "deletable": false
   },
   "outputs": [],
   "source": [
    "# Required\n",
    "Problem_1 = #\"I worked alone\"\n",
    "Problem_2 = #\"I worked alone\"\n",
    "Problem_3 = #\"I worked alone\"\n",
    "Problem_4 = #\"I worked alone\""
   ]
  },
  {
   "cell_type": "markdown",
   "id": "c1eb0e20",
   "metadata": {},
   "source": [
    "# Problem 4 (8 points)\n",
    "\n",
    "Complete the function `conjugate_gradient_descent(A, b, x0, k)` which returns $x^{(k)}$ from the iterative process \n",
    "\n",
    "\\begin{align*}\n",
    "  \\text{solving for }    \\quad & {}  x \\text{ in } Ax = b \\\\\n",
    "  \\text{by optimizing } \\quad & {} \\underset{x}{\\min} || b-Ax ||_{2}^{A^{-1}} =  \\underset{x}{\\min} f(x)\\\\\n",
    "  \\text{where } \\quad & {} f(x) = \\sqrt{(b-Ax)^T A^{-1}(b-Ax)}\n",
    "  \\end{align*}\n",
    "\n",
    "  with the ***conjugant gradient method*** given in the section [\"the resulting algorithm\"](https://en.wikipedia.org/wiki/Conjugate_gradient_method#The_resulting_algorithm) from the wikipedia ***conjugant gradient method*** page and initialized with $x^{(0)}= $ `x0`.\n",
    "\n",
    "*This problem is inspired by the distinction between $A$-conjugacy and $A^2$-conjugacy which manifests in the context of Algorithm 5.3 **The Conjugate Gradient Method for Solving the Symmetric Positive Definite System $Ax=b$** in the **Conjugate Gradient Methods for Symmetric Poitive Definite Systems** section of Chapter 5.4 **Iterative Methods** on pages 223-225 of James E. Gentle's **Computational Statistics** textbook. [Errata Warning: the discussion on pages 223-225 implies Algorithm 5.3 is based on $A$-conjugacy when in fact it is based on $A^2$-conjugacy; and the superscripts in the equation at the top of page 224 are indexed incorrectly and should start from $\\alpha^{(0)}p^{(0)}$ rather than $\\alpha^{(1)}p^{(1)}$]*."
   ]
  },
  {
   "cell_type": "code",
   "execution_count": null,
   "id": "0858c0b6",
   "metadata": {},
   "outputs": [],
   "source": [
    "def conjugate_gradient_descent(A, b, x0, k):\n",
    "    \n",
    "    pass"
   ]
  },
  {
   "cell_type": "markdown",
   "id": "7c5984f2",
   "metadata": {},
   "source": [
    "### Problem 4 Questions 1-6 (6 points)\n",
    "\n",
    "Define the `conjugate_gradient_descent` function as directed in the problem prompt.\n",
    "The function tested for accuracy on inputs such as\n",
    "\n",
    "```\n",
    "A = stats.norm.rvs(size=(d,d))\n",
    "A = A.T.dot(A) # positive definite\n",
    "b=np.ones((d,1))\n",
    "x0=np.ones((d,1))\n",
    "k=1\n",
    "```\n",
    "\n",
    "***No variable assignments are required: the functions will be tested directly.***"
   ]
  },
  {
   "cell_type": "markdown",
   "id": "179cf442",
   "metadata": {},
   "source": [
    "### Problem 4 Question 7 (1 point)\n",
    "\n",
    "Which of the following generally evaluates to True for the conjugate gradient directions $p_j$ and $p_{j\\not =k}$ used in the `conjugate_gradient_descent` function?\n",
    "\n",
    "- \"A\": `np.isclose(p_k.T.dot(p_k))`\n",
    "- \"B\": `np.isclose(p_k.T.dot(A).dot(p_k))`\n",
    "- \"C\": `np.isclose(p_k.T.dot(A).dot(A).dot(p_k))`\n",
    "- \"D\": `np.isclose(p_k.T.dot(A**2).dot(p_k))`"
   ]
  },
  {
   "cell_type": "code",
   "execution_count": null,
   "id": "653c539d",
   "metadata": {
    "deletable": false
   },
   "outputs": [],
   "source": [
    "# 1 point\n",
    "p4q7 = #\"<replace this placeholder with A, B, C, or D corresponding to the correct answer from the options above>\""
   ]
  },
  {
   "cell_type": "markdown",
   "id": "166b3770",
   "metadata": {},
   "source": [
    "### Problem 4 Question 8 (1 point)\n",
    "\n",
    "Which of the following doesn't stabilize after $d$ iterations of the `conjugate_gradient_descent` function for $A_{d\\times d}$?\n",
    "\n",
    "- \"A\": $x_{k+1} = x_k + \\alpha_kp_k$\n",
    "- \"B\": $r_{k+1} = r_k - \\alpha_k A p_k$\n",
    "- \"C\": $p_{k+1} = r_{k+1} + \\beta_kp_k$\n",
    "- \"D\": $\\beta_{k+1} = r_{k+1}^Tr_{k+1}/r_{k}^Tr_{k}$"
   ]
  },
  {
   "cell_type": "code",
   "execution_count": null,
   "id": "6e1e6027",
   "metadata": {
    "deletable": false
   },
   "outputs": [],
   "source": [
    "# 1 point\n",
    "p4q8 = #\"<replace this placeholder with A, B, C, or D corresponding to the correct answer from the options above>\""
   ]
  }
 ],
 "metadata": {
  "celltoolbar": "Edit Metadata",
  "kernelspec": {
   "display_name": "Python 3 (ipykernel)",
   "language": "python",
   "name": "python3"
  },
  "language_info": {
   "codemirror_mode": {
    "name": "ipython",
    "version": 3
   },
   "file_extension": ".py",
   "mimetype": "text/x-python",
   "name": "python",
   "nbconvert_exporter": "python",
   "pygments_lexer": "ipython3",
   "version": "3.11.4"
  }
 },
 "nbformat": 4,
 "nbformat_minor": 5
}
